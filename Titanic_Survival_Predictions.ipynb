{
  "nbformat": 4,
  "nbformat_minor": 0,
  "metadata": {
    "colab": {
      "provenance": [],
      "authorship_tag": "ABX9TyN5KXR6fI54u8YfeTdSWpHy",
      "include_colab_link": true
    },
    "kernelspec": {
      "name": "python3",
      "display_name": "Python 3"
    },
    "language_info": {
      "name": "python"
    }
  },
  "cells": [
    {
      "cell_type": "markdown",
      "metadata": {
        "id": "view-in-github",
        "colab_type": "text"
      },
      "source": [
        "<a href=\"https://colab.research.google.com/github/andreacohen7/tourism/blob/main/Titanic_Survival_Predictions.ipynb\" target=\"_parent\"><img src=\"https://colab.research.google.com/assets/colab-badge.svg\" alt=\"Open In Colab\"/></a>"
      ]
    },
    {
      "cell_type": "markdown",
      "source": [
        "# Titanic Survival Predictions\n",
        "- Andrea Cohen\n",
        "- 01.20.23"
      ],
      "metadata": {
        "id": "C4vR1D5m5qfE"
      }
    },
    {
      "cell_type": "markdown",
      "source": [
        "## Task\n",
        "  - To build a predictive model that answers the question: “what sorts of people were more likely to survive?” using passenger data (ie name, age, gender, socio-economic class, etc)."
      ],
      "metadata": {
        "id": "GAKy6uFR533Q"
      }
    },
    {
      "cell_type": "markdown",
      "source": [
        "## Data:\n",
        "- Source -- https://www.kaggle.com/competitions/titanic/data?select=train.csv\n"
      ],
      "metadata": {
        "id": "qeKz02pX6EIJ"
      }
    },
    {
      "cell_type": "markdown",
      "source": [
        "## Data Dictionary:\n",
        "\n",
        "Variable |\tDefinition (Key)\n",
        "---| ---\n",
        "survival |\tSurvival\t(0 = No, 1 = Yes)\n",
        "pclass |\tTicket class\t(1 = 1st, 2 = 2nd, 3 = 3rd)\n",
        "sex |\tSex\t\n",
        "Age |\tAge in years\t\n",
        "sibsp |\t# of siblings / spouses aboard the Titanic\t\n",
        "parch |\t# of parents / children aboard the Titanic\t\n",
        "ticket |\tTicket number\t\n",
        "fare |\tPassenger fare\t\n",
        "cabin |\tCabin number\t\n",
        "embarked |\tPort of Embarkation\tC = Cherbourg, Q = Queenstown, S = Southampton\n",
        "\n",
        "Variable Notes:\n",
        "\n",
        "- pclass:   \n",
        "A proxy for socio-economic status (SES)\n",
        "  - 1st = Upper\n",
        "  - 2nd = Middle\n",
        "  - 3rd = Lower\n",
        "\n",
        "- age:   \n",
        "Age is fractional if less than 1. If the age is estimated, is it in the form of xx.5\n",
        "\n",
        "- sibsp:   \n",
        "The dataset defines family relations in this way...\n",
        "  - Sibling = brother, sister, stepbrother, stepsister\n",
        "  - Spouse = husband, wife (mistresses and fiancés were ignored)\n",
        "\n",
        "- parch:   \n",
        "The dataset defines family relations in this way...\n",
        "  - Parent = mother, father\n",
        "  - Child = daughter, son, stepdaughter, stepson\n",
        "  - Some children travelled only with a nanny, therefore parch=0 for them.\n"
      ],
      "metadata": {
        "id": "m37LzHor8zb9"
      }
    },
    {
      "cell_type": "markdown",
      "source": [
        "### Preliminary Steps"
      ],
      "metadata": {
        "id": "O_djEwCm_u3F"
      }
    },
    {
      "cell_type": "markdown",
      "source": [
        "#### Mount the drive"
      ],
      "metadata": {
        "id": "PTL7RaWP_0ny"
      }
    },
    {
      "cell_type": "code",
      "source": [
        "from google.colab import drive\n",
        "drive.mount('/content/drive')"
      ],
      "metadata": {
        "colab": {
          "base_uri": "https://localhost:8080/"
        },
        "id": "YnhBEoOD_5wd",
        "outputId": "b2ccb000-87d1-4e3b-fb08-e4a9da1a25bc"
      },
      "execution_count": 1,
      "outputs": [
        {
          "output_type": "stream",
          "name": "stdout",
          "text": [
            "Mounted at /content/drive\n"
          ]
        }
      ]
    },
    {
      "cell_type": "markdown",
      "source": [
        "#### Import libraries"
      ],
      "metadata": {
        "id": "f6nkG5xHADT7"
      }
    },
    {
      "cell_type": "code",
      "source": [
        "import pandas as pd\n",
        "import numpy as np\n",
        "import matplotlib.pyplot as plt\n",
        "import seaborn as sns\n",
        "from sklearn.model_selection import train_test_split, GridSearchCV\n",
        "from sklearn.pipeline import make_pipeline\n",
        "from sklearn.preprocessing import OneHotEncoder, StandardScaler\n",
        "from sklearn.impute import SimpleImputer\n",
        "from sklearn.compose import make_column_selector, make_column_transformer\n",
        "from sklearn.dummy import DummyClassifier\n",
        "from sklearn.ensemble import GradientBoostingClassifier\n",
        "from lightgbm import LGBMClassifier\n",
        "from xgboost import XGBClassifier\n",
        "from sklearn.metrics import ConfusionMatrixDisplay, classification_report, plot_confusion_matrix\n",
        "from sklearn import set_config\n",
        "set_config(display='diagram')"
      ],
      "metadata": {
        "id": "5dH7JC83AGct"
      },
      "execution_count": 44,
      "outputs": []
    },
    {
      "cell_type": "markdown",
      "source": [
        "### Load and inspect the data"
      ],
      "metadata": {
        "id": "xneazDQDAL9y"
      }
    },
    {
      "cell_type": "markdown",
      "source": [
        "#### Load the dataset"
      ],
      "metadata": {
        "id": "_Edj24CNAbh4"
      }
    },
    {
      "cell_type": "code",
      "source": [
        "# load the dataset and check for unnecessary columns\n",
        "df = pd.read_csv('/content/train.csv')\n",
        "display(df.head())\n",
        "display(df.info())"
      ],
      "metadata": {
        "colab": {
          "base_uri": "https://localhost:8080/",
          "height": 563
        },
        "id": "94d3W9w3AZQm",
        "outputId": "aac74975-4815-43b6-fdcd-9f44cc853599"
      },
      "execution_count": 45,
      "outputs": [
        {
          "output_type": "display_data",
          "data": {
            "text/plain": [
              "   PassengerId  Survived  Pclass  \\\n",
              "0            1         0       3   \n",
              "1            2         1       1   \n",
              "2            3         1       3   \n",
              "3            4         1       1   \n",
              "4            5         0       3   \n",
              "\n",
              "                                                Name     Sex   Age  SibSp  \\\n",
              "0                            Braund, Mr. Owen Harris    male  22.0      1   \n",
              "1  Cumings, Mrs. John Bradley (Florence Briggs Th...  female  38.0      1   \n",
              "2                             Heikkinen, Miss. Laina  female  26.0      0   \n",
              "3       Futrelle, Mrs. Jacques Heath (Lily May Peel)  female  35.0      1   \n",
              "4                           Allen, Mr. William Henry    male  35.0      0   \n",
              "\n",
              "   Parch            Ticket     Fare Cabin Embarked  \n",
              "0      0         A/5 21171   7.2500   NaN        S  \n",
              "1      0          PC 17599  71.2833   C85        C  \n",
              "2      0  STON/O2. 3101282   7.9250   NaN        S  \n",
              "3      0            113803  53.1000  C123        S  \n",
              "4      0            373450   8.0500   NaN        S  "
            ],
            "text/html": [
              "\n",
              "  <div id=\"df-53d8e38d-6c20-4515-8a7b-555b930165b8\">\n",
              "    <div class=\"colab-df-container\">\n",
              "      <div>\n",
              "<style scoped>\n",
              "    .dataframe tbody tr th:only-of-type {\n",
              "        vertical-align: middle;\n",
              "    }\n",
              "\n",
              "    .dataframe tbody tr th {\n",
              "        vertical-align: top;\n",
              "    }\n",
              "\n",
              "    .dataframe thead th {\n",
              "        text-align: right;\n",
              "    }\n",
              "</style>\n",
              "<table border=\"1\" class=\"dataframe\">\n",
              "  <thead>\n",
              "    <tr style=\"text-align: right;\">\n",
              "      <th></th>\n",
              "      <th>PassengerId</th>\n",
              "      <th>Survived</th>\n",
              "      <th>Pclass</th>\n",
              "      <th>Name</th>\n",
              "      <th>Sex</th>\n",
              "      <th>Age</th>\n",
              "      <th>SibSp</th>\n",
              "      <th>Parch</th>\n",
              "      <th>Ticket</th>\n",
              "      <th>Fare</th>\n",
              "      <th>Cabin</th>\n",
              "      <th>Embarked</th>\n",
              "    </tr>\n",
              "  </thead>\n",
              "  <tbody>\n",
              "    <tr>\n",
              "      <th>0</th>\n",
              "      <td>1</td>\n",
              "      <td>0</td>\n",
              "      <td>3</td>\n",
              "      <td>Braund, Mr. Owen Harris</td>\n",
              "      <td>male</td>\n",
              "      <td>22.0</td>\n",
              "      <td>1</td>\n",
              "      <td>0</td>\n",
              "      <td>A/5 21171</td>\n",
              "      <td>7.2500</td>\n",
              "      <td>NaN</td>\n",
              "      <td>S</td>\n",
              "    </tr>\n",
              "    <tr>\n",
              "      <th>1</th>\n",
              "      <td>2</td>\n",
              "      <td>1</td>\n",
              "      <td>1</td>\n",
              "      <td>Cumings, Mrs. John Bradley (Florence Briggs Th...</td>\n",
              "      <td>female</td>\n",
              "      <td>38.0</td>\n",
              "      <td>1</td>\n",
              "      <td>0</td>\n",
              "      <td>PC 17599</td>\n",
              "      <td>71.2833</td>\n",
              "      <td>C85</td>\n",
              "      <td>C</td>\n",
              "    </tr>\n",
              "    <tr>\n",
              "      <th>2</th>\n",
              "      <td>3</td>\n",
              "      <td>1</td>\n",
              "      <td>3</td>\n",
              "      <td>Heikkinen, Miss. Laina</td>\n",
              "      <td>female</td>\n",
              "      <td>26.0</td>\n",
              "      <td>0</td>\n",
              "      <td>0</td>\n",
              "      <td>STON/O2. 3101282</td>\n",
              "      <td>7.9250</td>\n",
              "      <td>NaN</td>\n",
              "      <td>S</td>\n",
              "    </tr>\n",
              "    <tr>\n",
              "      <th>3</th>\n",
              "      <td>4</td>\n",
              "      <td>1</td>\n",
              "      <td>1</td>\n",
              "      <td>Futrelle, Mrs. Jacques Heath (Lily May Peel)</td>\n",
              "      <td>female</td>\n",
              "      <td>35.0</td>\n",
              "      <td>1</td>\n",
              "      <td>0</td>\n",
              "      <td>113803</td>\n",
              "      <td>53.1000</td>\n",
              "      <td>C123</td>\n",
              "      <td>S</td>\n",
              "    </tr>\n",
              "    <tr>\n",
              "      <th>4</th>\n",
              "      <td>5</td>\n",
              "      <td>0</td>\n",
              "      <td>3</td>\n",
              "      <td>Allen, Mr. William Henry</td>\n",
              "      <td>male</td>\n",
              "      <td>35.0</td>\n",
              "      <td>0</td>\n",
              "      <td>0</td>\n",
              "      <td>373450</td>\n",
              "      <td>8.0500</td>\n",
              "      <td>NaN</td>\n",
              "      <td>S</td>\n",
              "    </tr>\n",
              "  </tbody>\n",
              "</table>\n",
              "</div>\n",
              "      <button class=\"colab-df-convert\" onclick=\"convertToInteractive('df-53d8e38d-6c20-4515-8a7b-555b930165b8')\"\n",
              "              title=\"Convert this dataframe to an interactive table.\"\n",
              "              style=\"display:none;\">\n",
              "        \n",
              "  <svg xmlns=\"http://www.w3.org/2000/svg\" height=\"24px\"viewBox=\"0 0 24 24\"\n",
              "       width=\"24px\">\n",
              "    <path d=\"M0 0h24v24H0V0z\" fill=\"none\"/>\n",
              "    <path d=\"M18.56 5.44l.94 2.06.94-2.06 2.06-.94-2.06-.94-.94-2.06-.94 2.06-2.06.94zm-11 1L8.5 8.5l.94-2.06 2.06-.94-2.06-.94L8.5 2.5l-.94 2.06-2.06.94zm10 10l.94 2.06.94-2.06 2.06-.94-2.06-.94-.94-2.06-.94 2.06-2.06.94z\"/><path d=\"M17.41 7.96l-1.37-1.37c-.4-.4-.92-.59-1.43-.59-.52 0-1.04.2-1.43.59L10.3 9.45l-7.72 7.72c-.78.78-.78 2.05 0 2.83L4 21.41c.39.39.9.59 1.41.59.51 0 1.02-.2 1.41-.59l7.78-7.78 2.81-2.81c.8-.78.8-2.07 0-2.86zM5.41 20L4 18.59l7.72-7.72 1.47 1.35L5.41 20z\"/>\n",
              "  </svg>\n",
              "      </button>\n",
              "      \n",
              "  <style>\n",
              "    .colab-df-container {\n",
              "      display:flex;\n",
              "      flex-wrap:wrap;\n",
              "      gap: 12px;\n",
              "    }\n",
              "\n",
              "    .colab-df-convert {\n",
              "      background-color: #E8F0FE;\n",
              "      border: none;\n",
              "      border-radius: 50%;\n",
              "      cursor: pointer;\n",
              "      display: none;\n",
              "      fill: #1967D2;\n",
              "      height: 32px;\n",
              "      padding: 0 0 0 0;\n",
              "      width: 32px;\n",
              "    }\n",
              "\n",
              "    .colab-df-convert:hover {\n",
              "      background-color: #E2EBFA;\n",
              "      box-shadow: 0px 1px 2px rgba(60, 64, 67, 0.3), 0px 1px 3px 1px rgba(60, 64, 67, 0.15);\n",
              "      fill: #174EA6;\n",
              "    }\n",
              "\n",
              "    [theme=dark] .colab-df-convert {\n",
              "      background-color: #3B4455;\n",
              "      fill: #D2E3FC;\n",
              "    }\n",
              "\n",
              "    [theme=dark] .colab-df-convert:hover {\n",
              "      background-color: #434B5C;\n",
              "      box-shadow: 0px 1px 3px 1px rgba(0, 0, 0, 0.15);\n",
              "      filter: drop-shadow(0px 1px 2px rgba(0, 0, 0, 0.3));\n",
              "      fill: #FFFFFF;\n",
              "    }\n",
              "  </style>\n",
              "\n",
              "      <script>\n",
              "        const buttonEl =\n",
              "          document.querySelector('#df-53d8e38d-6c20-4515-8a7b-555b930165b8 button.colab-df-convert');\n",
              "        buttonEl.style.display =\n",
              "          google.colab.kernel.accessAllowed ? 'block' : 'none';\n",
              "\n",
              "        async function convertToInteractive(key) {\n",
              "          const element = document.querySelector('#df-53d8e38d-6c20-4515-8a7b-555b930165b8');\n",
              "          const dataTable =\n",
              "            await google.colab.kernel.invokeFunction('convertToInteractive',\n",
              "                                                     [key], {});\n",
              "          if (!dataTable) return;\n",
              "\n",
              "          const docLinkHtml = 'Like what you see? Visit the ' +\n",
              "            '<a target=\"_blank\" href=https://colab.research.google.com/notebooks/data_table.ipynb>data table notebook</a>'\n",
              "            + ' to learn more about interactive tables.';\n",
              "          element.innerHTML = '';\n",
              "          dataTable['output_type'] = 'display_data';\n",
              "          await google.colab.output.renderOutput(dataTable, element);\n",
              "          const docLink = document.createElement('div');\n",
              "          docLink.innerHTML = docLinkHtml;\n",
              "          element.appendChild(docLink);\n",
              "        }\n",
              "      </script>\n",
              "    </div>\n",
              "  </div>\n",
              "  "
            ]
          },
          "metadata": {}
        },
        {
          "output_type": "stream",
          "name": "stdout",
          "text": [
            "<class 'pandas.core.frame.DataFrame'>\n",
            "RangeIndex: 891 entries, 0 to 890\n",
            "Data columns (total 12 columns):\n",
            " #   Column       Non-Null Count  Dtype  \n",
            "---  ------       --------------  -----  \n",
            " 0   PassengerId  891 non-null    int64  \n",
            " 1   Survived     891 non-null    int64  \n",
            " 2   Pclass       891 non-null    int64  \n",
            " 3   Name         891 non-null    object \n",
            " 4   Sex          891 non-null    object \n",
            " 5   Age          714 non-null    float64\n",
            " 6   SibSp        891 non-null    int64  \n",
            " 7   Parch        891 non-null    int64  \n",
            " 8   Ticket       891 non-null    object \n",
            " 9   Fare         891 non-null    float64\n",
            " 10  Cabin        204 non-null    object \n",
            " 11  Embarked     889 non-null    object \n",
            "dtypes: float64(2), int64(5), object(5)\n",
            "memory usage: 83.7+ KB\n"
          ]
        },
        {
          "output_type": "display_data",
          "data": {
            "text/plain": [
              "None"
            ]
          },
          "metadata": {}
        }
      ]
    },
    {
      "cell_type": "markdown",
      "source": [
        "  - PassengerID, Name, and Ticket probably have no predictive value for survival.  These columns can be dropped."
      ],
      "metadata": {
        "id": "I0BtxbvwrcKX"
      }
    },
    {
      "cell_type": "code",
      "source": [
        "df = df.drop(columns = ['PassengerId', 'Name', 'Ticket'])\n",
        "display(df.head())\n",
        "display(df.info())"
      ],
      "metadata": {
        "colab": {
          "base_uri": "https://localhost:8080/",
          "height": 510
        },
        "id": "4xrz2TZ2D0O_",
        "outputId": "d7cb9e4b-566c-43e3-ceb8-2e2b689e35e6"
      },
      "execution_count": 46,
      "outputs": [
        {
          "output_type": "display_data",
          "data": {
            "text/plain": [
              "   Survived  Pclass     Sex   Age  SibSp  Parch     Fare Cabin Embarked\n",
              "0         0       3    male  22.0      1      0   7.2500   NaN        S\n",
              "1         1       1  female  38.0      1      0  71.2833   C85        C\n",
              "2         1       3  female  26.0      0      0   7.9250   NaN        S\n",
              "3         1       1  female  35.0      1      0  53.1000  C123        S\n",
              "4         0       3    male  35.0      0      0   8.0500   NaN        S"
            ],
            "text/html": [
              "\n",
              "  <div id=\"df-f4bae291-00ee-431a-bfbc-c8761ce78d93\">\n",
              "    <div class=\"colab-df-container\">\n",
              "      <div>\n",
              "<style scoped>\n",
              "    .dataframe tbody tr th:only-of-type {\n",
              "        vertical-align: middle;\n",
              "    }\n",
              "\n",
              "    .dataframe tbody tr th {\n",
              "        vertical-align: top;\n",
              "    }\n",
              "\n",
              "    .dataframe thead th {\n",
              "        text-align: right;\n",
              "    }\n",
              "</style>\n",
              "<table border=\"1\" class=\"dataframe\">\n",
              "  <thead>\n",
              "    <tr style=\"text-align: right;\">\n",
              "      <th></th>\n",
              "      <th>Survived</th>\n",
              "      <th>Pclass</th>\n",
              "      <th>Sex</th>\n",
              "      <th>Age</th>\n",
              "      <th>SibSp</th>\n",
              "      <th>Parch</th>\n",
              "      <th>Fare</th>\n",
              "      <th>Cabin</th>\n",
              "      <th>Embarked</th>\n",
              "    </tr>\n",
              "  </thead>\n",
              "  <tbody>\n",
              "    <tr>\n",
              "      <th>0</th>\n",
              "      <td>0</td>\n",
              "      <td>3</td>\n",
              "      <td>male</td>\n",
              "      <td>22.0</td>\n",
              "      <td>1</td>\n",
              "      <td>0</td>\n",
              "      <td>7.2500</td>\n",
              "      <td>NaN</td>\n",
              "      <td>S</td>\n",
              "    </tr>\n",
              "    <tr>\n",
              "      <th>1</th>\n",
              "      <td>1</td>\n",
              "      <td>1</td>\n",
              "      <td>female</td>\n",
              "      <td>38.0</td>\n",
              "      <td>1</td>\n",
              "      <td>0</td>\n",
              "      <td>71.2833</td>\n",
              "      <td>C85</td>\n",
              "      <td>C</td>\n",
              "    </tr>\n",
              "    <tr>\n",
              "      <th>2</th>\n",
              "      <td>1</td>\n",
              "      <td>3</td>\n",
              "      <td>female</td>\n",
              "      <td>26.0</td>\n",
              "      <td>0</td>\n",
              "      <td>0</td>\n",
              "      <td>7.9250</td>\n",
              "      <td>NaN</td>\n",
              "      <td>S</td>\n",
              "    </tr>\n",
              "    <tr>\n",
              "      <th>3</th>\n",
              "      <td>1</td>\n",
              "      <td>1</td>\n",
              "      <td>female</td>\n",
              "      <td>35.0</td>\n",
              "      <td>1</td>\n",
              "      <td>0</td>\n",
              "      <td>53.1000</td>\n",
              "      <td>C123</td>\n",
              "      <td>S</td>\n",
              "    </tr>\n",
              "    <tr>\n",
              "      <th>4</th>\n",
              "      <td>0</td>\n",
              "      <td>3</td>\n",
              "      <td>male</td>\n",
              "      <td>35.0</td>\n",
              "      <td>0</td>\n",
              "      <td>0</td>\n",
              "      <td>8.0500</td>\n",
              "      <td>NaN</td>\n",
              "      <td>S</td>\n",
              "    </tr>\n",
              "  </tbody>\n",
              "</table>\n",
              "</div>\n",
              "      <button class=\"colab-df-convert\" onclick=\"convertToInteractive('df-f4bae291-00ee-431a-bfbc-c8761ce78d93')\"\n",
              "              title=\"Convert this dataframe to an interactive table.\"\n",
              "              style=\"display:none;\">\n",
              "        \n",
              "  <svg xmlns=\"http://www.w3.org/2000/svg\" height=\"24px\"viewBox=\"0 0 24 24\"\n",
              "       width=\"24px\">\n",
              "    <path d=\"M0 0h24v24H0V0z\" fill=\"none\"/>\n",
              "    <path d=\"M18.56 5.44l.94 2.06.94-2.06 2.06-.94-2.06-.94-.94-2.06-.94 2.06-2.06.94zm-11 1L8.5 8.5l.94-2.06 2.06-.94-2.06-.94L8.5 2.5l-.94 2.06-2.06.94zm10 10l.94 2.06.94-2.06 2.06-.94-2.06-.94-.94-2.06-.94 2.06-2.06.94z\"/><path d=\"M17.41 7.96l-1.37-1.37c-.4-.4-.92-.59-1.43-.59-.52 0-1.04.2-1.43.59L10.3 9.45l-7.72 7.72c-.78.78-.78 2.05 0 2.83L4 21.41c.39.39.9.59 1.41.59.51 0 1.02-.2 1.41-.59l7.78-7.78 2.81-2.81c.8-.78.8-2.07 0-2.86zM5.41 20L4 18.59l7.72-7.72 1.47 1.35L5.41 20z\"/>\n",
              "  </svg>\n",
              "      </button>\n",
              "      \n",
              "  <style>\n",
              "    .colab-df-container {\n",
              "      display:flex;\n",
              "      flex-wrap:wrap;\n",
              "      gap: 12px;\n",
              "    }\n",
              "\n",
              "    .colab-df-convert {\n",
              "      background-color: #E8F0FE;\n",
              "      border: none;\n",
              "      border-radius: 50%;\n",
              "      cursor: pointer;\n",
              "      display: none;\n",
              "      fill: #1967D2;\n",
              "      height: 32px;\n",
              "      padding: 0 0 0 0;\n",
              "      width: 32px;\n",
              "    }\n",
              "\n",
              "    .colab-df-convert:hover {\n",
              "      background-color: #E2EBFA;\n",
              "      box-shadow: 0px 1px 2px rgba(60, 64, 67, 0.3), 0px 1px 3px 1px rgba(60, 64, 67, 0.15);\n",
              "      fill: #174EA6;\n",
              "    }\n",
              "\n",
              "    [theme=dark] .colab-df-convert {\n",
              "      background-color: #3B4455;\n",
              "      fill: #D2E3FC;\n",
              "    }\n",
              "\n",
              "    [theme=dark] .colab-df-convert:hover {\n",
              "      background-color: #434B5C;\n",
              "      box-shadow: 0px 1px 3px 1px rgba(0, 0, 0, 0.15);\n",
              "      filter: drop-shadow(0px 1px 2px rgba(0, 0, 0, 0.3));\n",
              "      fill: #FFFFFF;\n",
              "    }\n",
              "  </style>\n",
              "\n",
              "      <script>\n",
              "        const buttonEl =\n",
              "          document.querySelector('#df-f4bae291-00ee-431a-bfbc-c8761ce78d93 button.colab-df-convert');\n",
              "        buttonEl.style.display =\n",
              "          google.colab.kernel.accessAllowed ? 'block' : 'none';\n",
              "\n",
              "        async function convertToInteractive(key) {\n",
              "          const element = document.querySelector('#df-f4bae291-00ee-431a-bfbc-c8761ce78d93');\n",
              "          const dataTable =\n",
              "            await google.colab.kernel.invokeFunction('convertToInteractive',\n",
              "                                                     [key], {});\n",
              "          if (!dataTable) return;\n",
              "\n",
              "          const docLinkHtml = 'Like what you see? Visit the ' +\n",
              "            '<a target=\"_blank\" href=https://colab.research.google.com/notebooks/data_table.ipynb>data table notebook</a>'\n",
              "            + ' to learn more about interactive tables.';\n",
              "          element.innerHTML = '';\n",
              "          dataTable['output_type'] = 'display_data';\n",
              "          await google.colab.output.renderOutput(dataTable, element);\n",
              "          const docLink = document.createElement('div');\n",
              "          docLink.innerHTML = docLinkHtml;\n",
              "          element.appendChild(docLink);\n",
              "        }\n",
              "      </script>\n",
              "    </div>\n",
              "  </div>\n",
              "  "
            ]
          },
          "metadata": {}
        },
        {
          "output_type": "stream",
          "name": "stdout",
          "text": [
            "<class 'pandas.core.frame.DataFrame'>\n",
            "RangeIndex: 891 entries, 0 to 890\n",
            "Data columns (total 9 columns):\n",
            " #   Column    Non-Null Count  Dtype  \n",
            "---  ------    --------------  -----  \n",
            " 0   Survived  891 non-null    int64  \n",
            " 1   Pclass    891 non-null    int64  \n",
            " 2   Sex       891 non-null    object \n",
            " 3   Age       714 non-null    float64\n",
            " 4   SibSp     891 non-null    int64  \n",
            " 5   Parch     891 non-null    int64  \n",
            " 6   Fare      891 non-null    float64\n",
            " 7   Cabin     204 non-null    object \n",
            " 8   Embarked  889 non-null    object \n",
            "dtypes: float64(2), int64(4), object(3)\n",
            "memory usage: 62.8+ KB\n"
          ]
        },
        {
          "output_type": "display_data",
          "data": {
            "text/plain": [
              "None"
            ]
          },
          "metadata": {}
        }
      ]
    },
    {
      "cell_type": "markdown",
      "source": [
        "  - There are no other unnecessary columns."
      ],
      "metadata": {
        "id": "xtPqsYY3FONm"
      }
    },
    {
      "cell_type": "markdown",
      "source": [
        "#### Inspect and clean the data"
      ],
      "metadata": {
        "id": "-2kx-QALBAbV"
      }
    },
    {
      "cell_type": "code",
      "source": [
        "df.shape"
      ],
      "metadata": {
        "colab": {
          "base_uri": "https://localhost:8080/"
        },
        "id": "6iSbO88dBGDS",
        "outputId": "cff78608-d283-4419-a7d9-2c02fc8f80bf"
      },
      "execution_count": 47,
      "outputs": [
        {
          "output_type": "execute_result",
          "data": {
            "text/plain": [
              "(891, 9)"
            ]
          },
          "metadata": {},
          "execution_count": 47
        }
      ]
    },
    {
      "cell_type": "markdown",
      "source": [
        "  - There are 891 rows and 9 columns."
      ],
      "metadata": {
        "id": "9DXQu2U5BM0U"
      }
    },
    {
      "cell_type": "code",
      "source": [
        "# check datatypes and ensure that they match the data dictionary\n",
        "df.dtypes"
      ],
      "metadata": {
        "colab": {
          "base_uri": "https://localhost:8080/"
        },
        "id": "WB235qIWBRO1",
        "outputId": "911cbf39-fb78-4419-df02-6aeaa50bac1f"
      },
      "execution_count": 48,
      "outputs": [
        {
          "output_type": "execute_result",
          "data": {
            "text/plain": [
              "Survived      int64\n",
              "Pclass        int64\n",
              "Sex          object\n",
              "Age         float64\n",
              "SibSp         int64\n",
              "Parch         int64\n",
              "Fare        float64\n",
              "Cabin        object\n",
              "Embarked     object\n",
              "dtype: object"
            ]
          },
          "metadata": {},
          "execution_count": 48
        }
      ]
    },
    {
      "cell_type": "markdown",
      "source": [
        "  - Sex, Cabin, and Embarked are all datatype object.\n",
        "  - Survived, Pclass, SibSp, and Parch are all datatype int64.\n",
        "  - Age and Fare are all datatype float64.\n",
        "  - All datatypes are consistent with the data dictionary."
      ],
      "metadata": {
        "id": "-N_6PE9HBVMx"
      }
    },
    {
      "cell_type": "code",
      "source": [
        "# check for outliers and obvious errors\n",
        "display(df.describe(include='number'))\n",
        "display(df.describe(exclude='number'))"
      ],
      "metadata": {
        "colab": {
          "base_uri": "https://localhost:8080/",
          "height": 458
        },
        "id": "NFaFqmwNCdXY",
        "outputId": "8d044c1b-2ecf-46d0-897b-ca0f1e635a18"
      },
      "execution_count": 49,
      "outputs": [
        {
          "output_type": "display_data",
          "data": {
            "text/plain": [
              "         Survived      Pclass         Age       SibSp       Parch        Fare\n",
              "count  891.000000  891.000000  714.000000  891.000000  891.000000  891.000000\n",
              "mean     0.383838    2.308642   29.699118    0.523008    0.381594   32.204208\n",
              "std      0.486592    0.836071   14.526497    1.102743    0.806057   49.693429\n",
              "min      0.000000    1.000000    0.420000    0.000000    0.000000    0.000000\n",
              "25%      0.000000    2.000000   20.125000    0.000000    0.000000    7.910400\n",
              "50%      0.000000    3.000000   28.000000    0.000000    0.000000   14.454200\n",
              "75%      1.000000    3.000000   38.000000    1.000000    0.000000   31.000000\n",
              "max      1.000000    3.000000   80.000000    8.000000    6.000000  512.329200"
            ],
            "text/html": [
              "\n",
              "  <div id=\"df-3b04b2c6-1f37-471d-8c73-f50f15714e4a\">\n",
              "    <div class=\"colab-df-container\">\n",
              "      <div>\n",
              "<style scoped>\n",
              "    .dataframe tbody tr th:only-of-type {\n",
              "        vertical-align: middle;\n",
              "    }\n",
              "\n",
              "    .dataframe tbody tr th {\n",
              "        vertical-align: top;\n",
              "    }\n",
              "\n",
              "    .dataframe thead th {\n",
              "        text-align: right;\n",
              "    }\n",
              "</style>\n",
              "<table border=\"1\" class=\"dataframe\">\n",
              "  <thead>\n",
              "    <tr style=\"text-align: right;\">\n",
              "      <th></th>\n",
              "      <th>Survived</th>\n",
              "      <th>Pclass</th>\n",
              "      <th>Age</th>\n",
              "      <th>SibSp</th>\n",
              "      <th>Parch</th>\n",
              "      <th>Fare</th>\n",
              "    </tr>\n",
              "  </thead>\n",
              "  <tbody>\n",
              "    <tr>\n",
              "      <th>count</th>\n",
              "      <td>891.000000</td>\n",
              "      <td>891.000000</td>\n",
              "      <td>714.000000</td>\n",
              "      <td>891.000000</td>\n",
              "      <td>891.000000</td>\n",
              "      <td>891.000000</td>\n",
              "    </tr>\n",
              "    <tr>\n",
              "      <th>mean</th>\n",
              "      <td>0.383838</td>\n",
              "      <td>2.308642</td>\n",
              "      <td>29.699118</td>\n",
              "      <td>0.523008</td>\n",
              "      <td>0.381594</td>\n",
              "      <td>32.204208</td>\n",
              "    </tr>\n",
              "    <tr>\n",
              "      <th>std</th>\n",
              "      <td>0.486592</td>\n",
              "      <td>0.836071</td>\n",
              "      <td>14.526497</td>\n",
              "      <td>1.102743</td>\n",
              "      <td>0.806057</td>\n",
              "      <td>49.693429</td>\n",
              "    </tr>\n",
              "    <tr>\n",
              "      <th>min</th>\n",
              "      <td>0.000000</td>\n",
              "      <td>1.000000</td>\n",
              "      <td>0.420000</td>\n",
              "      <td>0.000000</td>\n",
              "      <td>0.000000</td>\n",
              "      <td>0.000000</td>\n",
              "    </tr>\n",
              "    <tr>\n",
              "      <th>25%</th>\n",
              "      <td>0.000000</td>\n",
              "      <td>2.000000</td>\n",
              "      <td>20.125000</td>\n",
              "      <td>0.000000</td>\n",
              "      <td>0.000000</td>\n",
              "      <td>7.910400</td>\n",
              "    </tr>\n",
              "    <tr>\n",
              "      <th>50%</th>\n",
              "      <td>0.000000</td>\n",
              "      <td>3.000000</td>\n",
              "      <td>28.000000</td>\n",
              "      <td>0.000000</td>\n",
              "      <td>0.000000</td>\n",
              "      <td>14.454200</td>\n",
              "    </tr>\n",
              "    <tr>\n",
              "      <th>75%</th>\n",
              "      <td>1.000000</td>\n",
              "      <td>3.000000</td>\n",
              "      <td>38.000000</td>\n",
              "      <td>1.000000</td>\n",
              "      <td>0.000000</td>\n",
              "      <td>31.000000</td>\n",
              "    </tr>\n",
              "    <tr>\n",
              "      <th>max</th>\n",
              "      <td>1.000000</td>\n",
              "      <td>3.000000</td>\n",
              "      <td>80.000000</td>\n",
              "      <td>8.000000</td>\n",
              "      <td>6.000000</td>\n",
              "      <td>512.329200</td>\n",
              "    </tr>\n",
              "  </tbody>\n",
              "</table>\n",
              "</div>\n",
              "      <button class=\"colab-df-convert\" onclick=\"convertToInteractive('df-3b04b2c6-1f37-471d-8c73-f50f15714e4a')\"\n",
              "              title=\"Convert this dataframe to an interactive table.\"\n",
              "              style=\"display:none;\">\n",
              "        \n",
              "  <svg xmlns=\"http://www.w3.org/2000/svg\" height=\"24px\"viewBox=\"0 0 24 24\"\n",
              "       width=\"24px\">\n",
              "    <path d=\"M0 0h24v24H0V0z\" fill=\"none\"/>\n",
              "    <path d=\"M18.56 5.44l.94 2.06.94-2.06 2.06-.94-2.06-.94-.94-2.06-.94 2.06-2.06.94zm-11 1L8.5 8.5l.94-2.06 2.06-.94-2.06-.94L8.5 2.5l-.94 2.06-2.06.94zm10 10l.94 2.06.94-2.06 2.06-.94-2.06-.94-.94-2.06-.94 2.06-2.06.94z\"/><path d=\"M17.41 7.96l-1.37-1.37c-.4-.4-.92-.59-1.43-.59-.52 0-1.04.2-1.43.59L10.3 9.45l-7.72 7.72c-.78.78-.78 2.05 0 2.83L4 21.41c.39.39.9.59 1.41.59.51 0 1.02-.2 1.41-.59l7.78-7.78 2.81-2.81c.8-.78.8-2.07 0-2.86zM5.41 20L4 18.59l7.72-7.72 1.47 1.35L5.41 20z\"/>\n",
              "  </svg>\n",
              "      </button>\n",
              "      \n",
              "  <style>\n",
              "    .colab-df-container {\n",
              "      display:flex;\n",
              "      flex-wrap:wrap;\n",
              "      gap: 12px;\n",
              "    }\n",
              "\n",
              "    .colab-df-convert {\n",
              "      background-color: #E8F0FE;\n",
              "      border: none;\n",
              "      border-radius: 50%;\n",
              "      cursor: pointer;\n",
              "      display: none;\n",
              "      fill: #1967D2;\n",
              "      height: 32px;\n",
              "      padding: 0 0 0 0;\n",
              "      width: 32px;\n",
              "    }\n",
              "\n",
              "    .colab-df-convert:hover {\n",
              "      background-color: #E2EBFA;\n",
              "      box-shadow: 0px 1px 2px rgba(60, 64, 67, 0.3), 0px 1px 3px 1px rgba(60, 64, 67, 0.15);\n",
              "      fill: #174EA6;\n",
              "    }\n",
              "\n",
              "    [theme=dark] .colab-df-convert {\n",
              "      background-color: #3B4455;\n",
              "      fill: #D2E3FC;\n",
              "    }\n",
              "\n",
              "    [theme=dark] .colab-df-convert:hover {\n",
              "      background-color: #434B5C;\n",
              "      box-shadow: 0px 1px 3px 1px rgba(0, 0, 0, 0.15);\n",
              "      filter: drop-shadow(0px 1px 2px rgba(0, 0, 0, 0.3));\n",
              "      fill: #FFFFFF;\n",
              "    }\n",
              "  </style>\n",
              "\n",
              "      <script>\n",
              "        const buttonEl =\n",
              "          document.querySelector('#df-3b04b2c6-1f37-471d-8c73-f50f15714e4a button.colab-df-convert');\n",
              "        buttonEl.style.display =\n",
              "          google.colab.kernel.accessAllowed ? 'block' : 'none';\n",
              "\n",
              "        async function convertToInteractive(key) {\n",
              "          const element = document.querySelector('#df-3b04b2c6-1f37-471d-8c73-f50f15714e4a');\n",
              "          const dataTable =\n",
              "            await google.colab.kernel.invokeFunction('convertToInteractive',\n",
              "                                                     [key], {});\n",
              "          if (!dataTable) return;\n",
              "\n",
              "          const docLinkHtml = 'Like what you see? Visit the ' +\n",
              "            '<a target=\"_blank\" href=https://colab.research.google.com/notebooks/data_table.ipynb>data table notebook</a>'\n",
              "            + ' to learn more about interactive tables.';\n",
              "          element.innerHTML = '';\n",
              "          dataTable['output_type'] = 'display_data';\n",
              "          await google.colab.output.renderOutput(dataTable, element);\n",
              "          const docLink = document.createElement('div');\n",
              "          docLink.innerHTML = docLinkHtml;\n",
              "          element.appendChild(docLink);\n",
              "        }\n",
              "      </script>\n",
              "    </div>\n",
              "  </div>\n",
              "  "
            ]
          },
          "metadata": {}
        },
        {
          "output_type": "display_data",
          "data": {
            "text/plain": [
              "         Sex    Cabin Embarked\n",
              "count    891      204      889\n",
              "unique     2      147        3\n",
              "top     male  B96 B98        S\n",
              "freq     577        4      644"
            ],
            "text/html": [
              "\n",
              "  <div id=\"df-ccbb4ed8-82cc-4344-b640-fa384e783a00\">\n",
              "    <div class=\"colab-df-container\">\n",
              "      <div>\n",
              "<style scoped>\n",
              "    .dataframe tbody tr th:only-of-type {\n",
              "        vertical-align: middle;\n",
              "    }\n",
              "\n",
              "    .dataframe tbody tr th {\n",
              "        vertical-align: top;\n",
              "    }\n",
              "\n",
              "    .dataframe thead th {\n",
              "        text-align: right;\n",
              "    }\n",
              "</style>\n",
              "<table border=\"1\" class=\"dataframe\">\n",
              "  <thead>\n",
              "    <tr style=\"text-align: right;\">\n",
              "      <th></th>\n",
              "      <th>Sex</th>\n",
              "      <th>Cabin</th>\n",
              "      <th>Embarked</th>\n",
              "    </tr>\n",
              "  </thead>\n",
              "  <tbody>\n",
              "    <tr>\n",
              "      <th>count</th>\n",
              "      <td>891</td>\n",
              "      <td>204</td>\n",
              "      <td>889</td>\n",
              "    </tr>\n",
              "    <tr>\n",
              "      <th>unique</th>\n",
              "      <td>2</td>\n",
              "      <td>147</td>\n",
              "      <td>3</td>\n",
              "    </tr>\n",
              "    <tr>\n",
              "      <th>top</th>\n",
              "      <td>male</td>\n",
              "      <td>B96 B98</td>\n",
              "      <td>S</td>\n",
              "    </tr>\n",
              "    <tr>\n",
              "      <th>freq</th>\n",
              "      <td>577</td>\n",
              "      <td>4</td>\n",
              "      <td>644</td>\n",
              "    </tr>\n",
              "  </tbody>\n",
              "</table>\n",
              "</div>\n",
              "      <button class=\"colab-df-convert\" onclick=\"convertToInteractive('df-ccbb4ed8-82cc-4344-b640-fa384e783a00')\"\n",
              "              title=\"Convert this dataframe to an interactive table.\"\n",
              "              style=\"display:none;\">\n",
              "        \n",
              "  <svg xmlns=\"http://www.w3.org/2000/svg\" height=\"24px\"viewBox=\"0 0 24 24\"\n",
              "       width=\"24px\">\n",
              "    <path d=\"M0 0h24v24H0V0z\" fill=\"none\"/>\n",
              "    <path d=\"M18.56 5.44l.94 2.06.94-2.06 2.06-.94-2.06-.94-.94-2.06-.94 2.06-2.06.94zm-11 1L8.5 8.5l.94-2.06 2.06-.94-2.06-.94L8.5 2.5l-.94 2.06-2.06.94zm10 10l.94 2.06.94-2.06 2.06-.94-2.06-.94-.94-2.06-.94 2.06-2.06.94z\"/><path d=\"M17.41 7.96l-1.37-1.37c-.4-.4-.92-.59-1.43-.59-.52 0-1.04.2-1.43.59L10.3 9.45l-7.72 7.72c-.78.78-.78 2.05 0 2.83L4 21.41c.39.39.9.59 1.41.59.51 0 1.02-.2 1.41-.59l7.78-7.78 2.81-2.81c.8-.78.8-2.07 0-2.86zM5.41 20L4 18.59l7.72-7.72 1.47 1.35L5.41 20z\"/>\n",
              "  </svg>\n",
              "      </button>\n",
              "      \n",
              "  <style>\n",
              "    .colab-df-container {\n",
              "      display:flex;\n",
              "      flex-wrap:wrap;\n",
              "      gap: 12px;\n",
              "    }\n",
              "\n",
              "    .colab-df-convert {\n",
              "      background-color: #E8F0FE;\n",
              "      border: none;\n",
              "      border-radius: 50%;\n",
              "      cursor: pointer;\n",
              "      display: none;\n",
              "      fill: #1967D2;\n",
              "      height: 32px;\n",
              "      padding: 0 0 0 0;\n",
              "      width: 32px;\n",
              "    }\n",
              "\n",
              "    .colab-df-convert:hover {\n",
              "      background-color: #E2EBFA;\n",
              "      box-shadow: 0px 1px 2px rgba(60, 64, 67, 0.3), 0px 1px 3px 1px rgba(60, 64, 67, 0.15);\n",
              "      fill: #174EA6;\n",
              "    }\n",
              "\n",
              "    [theme=dark] .colab-df-convert {\n",
              "      background-color: #3B4455;\n",
              "      fill: #D2E3FC;\n",
              "    }\n",
              "\n",
              "    [theme=dark] .colab-df-convert:hover {\n",
              "      background-color: #434B5C;\n",
              "      box-shadow: 0px 1px 3px 1px rgba(0, 0, 0, 0.15);\n",
              "      filter: drop-shadow(0px 1px 2px rgba(0, 0, 0, 0.3));\n",
              "      fill: #FFFFFF;\n",
              "    }\n",
              "  </style>\n",
              "\n",
              "      <script>\n",
              "        const buttonEl =\n",
              "          document.querySelector('#df-ccbb4ed8-82cc-4344-b640-fa384e783a00 button.colab-df-convert');\n",
              "        buttonEl.style.display =\n",
              "          google.colab.kernel.accessAllowed ? 'block' : 'none';\n",
              "\n",
              "        async function convertToInteractive(key) {\n",
              "          const element = document.querySelector('#df-ccbb4ed8-82cc-4344-b640-fa384e783a00');\n",
              "          const dataTable =\n",
              "            await google.colab.kernel.invokeFunction('convertToInteractive',\n",
              "                                                     [key], {});\n",
              "          if (!dataTable) return;\n",
              "\n",
              "          const docLinkHtml = 'Like what you see? Visit the ' +\n",
              "            '<a target=\"_blank\" href=https://colab.research.google.com/notebooks/data_table.ipynb>data table notebook</a>'\n",
              "            + ' to learn more about interactive tables.';\n",
              "          element.innerHTML = '';\n",
              "          dataTable['output_type'] = 'display_data';\n",
              "          await google.colab.output.renderOutput(dataTable, element);\n",
              "          const docLink = document.createElement('div');\n",
              "          docLink.innerHTML = docLinkHtml;\n",
              "          element.appendChild(docLink);\n",
              "        }\n",
              "      </script>\n",
              "    </div>\n",
              "  </div>\n",
              "  "
            ]
          },
          "metadata": {}
        }
      ]
    },
    {
      "cell_type": "markdown",
      "source": [
        "  - There are no obvious outliers or errors in the data."
      ],
      "metadata": {
        "id": "rUohl4DWFvcS"
      }
    },
    {
      "cell_type": "code",
      "source": [
        "# check for duplicated rows\n",
        "df.duplicated().sum()"
      ],
      "metadata": {
        "colab": {
          "base_uri": "https://localhost:8080/"
        },
        "id": "av08KzpwEaqj",
        "outputId": "1d709933-3b7a-40ea-98e1-e4ba59dedcd2"
      },
      "execution_count": 50,
      "outputs": [
        {
          "output_type": "execute_result",
          "data": {
            "text/plain": [
              "107"
            ]
          },
          "metadata": {},
          "execution_count": 50
        }
      ]
    },
    {
      "cell_type": "markdown",
      "source": [
        "  - There are 107 duplicates."
      ],
      "metadata": {
        "id": "WKPD8z6eC2Qn"
      }
    },
    {
      "cell_type": "code",
      "source": [
        "# drop duplicate rows\n",
        "df = df.drop_duplicates()\n",
        "df.duplicated().sum()"
      ],
      "metadata": {
        "colab": {
          "base_uri": "https://localhost:8080/"
        },
        "id": "7ZHuUcJ6GAh4",
        "outputId": "c68c0e16-e61e-496d-c12a-1fdd6cefca07"
      },
      "execution_count": 51,
      "outputs": [
        {
          "output_type": "execute_result",
          "data": {
            "text/plain": [
              "0"
            ]
          },
          "metadata": {},
          "execution_count": 51
        }
      ]
    },
    {
      "cell_type": "markdown",
      "source": [
        "  - There are now 0 duplicates."
      ],
      "metadata": {
        "id": "jib0_mBQGRc9"
      }
    },
    {
      "cell_type": "code",
      "source": [
        "# check for missing values\n",
        "df.isna().sum()"
      ],
      "metadata": {
        "colab": {
          "base_uri": "https://localhost:8080/"
        },
        "id": "OkENxyxuGQWB",
        "outputId": "aff1038a-e0e1-4db7-ef4d-8fb441605676"
      },
      "execution_count": 52,
      "outputs": [
        {
          "output_type": "execute_result",
          "data": {
            "text/plain": [
              "Survived      0\n",
              "Pclass        0\n",
              "Sex           0\n",
              "Age         106\n",
              "SibSp         0\n",
              "Parch         0\n",
              "Fare          0\n",
              "Cabin       581\n",
              "Embarked      2\n",
              "dtype: int64"
            ]
          },
          "metadata": {},
          "execution_count": 52
        }
      ]
    },
    {
      "cell_type": "markdown",
      "source": [
        "  - There are 106 missing values in Age.\n",
        "  - Options:\n",
        "    - Dropping rows is not a good option because 13.52% of rows are missing data--too many (>2%) to just eliminate.  \n",
        "    - Dropping columns is not a good option because Age might be an important property for predicting survival. Also, <50% of the data are missing, too little to just eliminate.  \n",
        "    - Creating a new category is not a good option because the data are type float instead of type object.  \n",
        "    - Imputing missing values is a great option because the average (mean) value would likely be closest to the correct value that is missing.\n",
        "  - Mean imputation will be performed on a copy of the dataset for machine learning--this imputation will be performed within a pipeline in order to prevent data leakage.\n",
        "\n",
        "  - There are 581 missing values in Cabin.\n",
        "  - Options:\n",
        "    - Dropping rows was not a good option because 74.11% of rows are missing data--too many (>2%) to just eliminate.\n",
        "    - Imputing missing values is not a good option because there are so few values that the most frequent value would be unlikely to be the correct value that is missing.\n",
        "    - Creating a new category is an option because there might be some predictive value in a 'Missing' category.\n",
        "    - Dropping the column is a better option because >50% of the data are missing, which limits the predictive value of the category.  "
      ],
      "metadata": {
        "id": "nH7Xopc1GWke"
      }
    },
    {
      "cell_type": "code",
      "source": [
        "# drop the 'Cabin' column\n",
        "df = df.drop(columns = 'Cabin')\n",
        "df.head()"
      ],
      "metadata": {
        "colab": {
          "base_uri": "https://localhost:8080/",
          "height": 206
        },
        "id": "FWUmvpYXdje3",
        "outputId": "54ea08a1-df2f-4766-8dd8-fc74178a2df4"
      },
      "execution_count": 53,
      "outputs": [
        {
          "output_type": "execute_result",
          "data": {
            "text/plain": [
              "   Survived  Pclass     Sex   Age  SibSp  Parch     Fare Embarked\n",
              "0         0       3    male  22.0      1      0   7.2500        S\n",
              "1         1       1  female  38.0      1      0  71.2833        C\n",
              "2         1       3  female  26.0      0      0   7.9250        S\n",
              "3         1       1  female  35.0      1      0  53.1000        S\n",
              "4         0       3    male  35.0      0      0   8.0500        S"
            ],
            "text/html": [
              "\n",
              "  <div id=\"df-ee59d29c-3e83-4c27-829b-b0be9476bcc4\">\n",
              "    <div class=\"colab-df-container\">\n",
              "      <div>\n",
              "<style scoped>\n",
              "    .dataframe tbody tr th:only-of-type {\n",
              "        vertical-align: middle;\n",
              "    }\n",
              "\n",
              "    .dataframe tbody tr th {\n",
              "        vertical-align: top;\n",
              "    }\n",
              "\n",
              "    .dataframe thead th {\n",
              "        text-align: right;\n",
              "    }\n",
              "</style>\n",
              "<table border=\"1\" class=\"dataframe\">\n",
              "  <thead>\n",
              "    <tr style=\"text-align: right;\">\n",
              "      <th></th>\n",
              "      <th>Survived</th>\n",
              "      <th>Pclass</th>\n",
              "      <th>Sex</th>\n",
              "      <th>Age</th>\n",
              "      <th>SibSp</th>\n",
              "      <th>Parch</th>\n",
              "      <th>Fare</th>\n",
              "      <th>Embarked</th>\n",
              "    </tr>\n",
              "  </thead>\n",
              "  <tbody>\n",
              "    <tr>\n",
              "      <th>0</th>\n",
              "      <td>0</td>\n",
              "      <td>3</td>\n",
              "      <td>male</td>\n",
              "      <td>22.0</td>\n",
              "      <td>1</td>\n",
              "      <td>0</td>\n",
              "      <td>7.2500</td>\n",
              "      <td>S</td>\n",
              "    </tr>\n",
              "    <tr>\n",
              "      <th>1</th>\n",
              "      <td>1</td>\n",
              "      <td>1</td>\n",
              "      <td>female</td>\n",
              "      <td>38.0</td>\n",
              "      <td>1</td>\n",
              "      <td>0</td>\n",
              "      <td>71.2833</td>\n",
              "      <td>C</td>\n",
              "    </tr>\n",
              "    <tr>\n",
              "      <th>2</th>\n",
              "      <td>1</td>\n",
              "      <td>3</td>\n",
              "      <td>female</td>\n",
              "      <td>26.0</td>\n",
              "      <td>0</td>\n",
              "      <td>0</td>\n",
              "      <td>7.9250</td>\n",
              "      <td>S</td>\n",
              "    </tr>\n",
              "    <tr>\n",
              "      <th>3</th>\n",
              "      <td>1</td>\n",
              "      <td>1</td>\n",
              "      <td>female</td>\n",
              "      <td>35.0</td>\n",
              "      <td>1</td>\n",
              "      <td>0</td>\n",
              "      <td>53.1000</td>\n",
              "      <td>S</td>\n",
              "    </tr>\n",
              "    <tr>\n",
              "      <th>4</th>\n",
              "      <td>0</td>\n",
              "      <td>3</td>\n",
              "      <td>male</td>\n",
              "      <td>35.0</td>\n",
              "      <td>0</td>\n",
              "      <td>0</td>\n",
              "      <td>8.0500</td>\n",
              "      <td>S</td>\n",
              "    </tr>\n",
              "  </tbody>\n",
              "</table>\n",
              "</div>\n",
              "      <button class=\"colab-df-convert\" onclick=\"convertToInteractive('df-ee59d29c-3e83-4c27-829b-b0be9476bcc4')\"\n",
              "              title=\"Convert this dataframe to an interactive table.\"\n",
              "              style=\"display:none;\">\n",
              "        \n",
              "  <svg xmlns=\"http://www.w3.org/2000/svg\" height=\"24px\"viewBox=\"0 0 24 24\"\n",
              "       width=\"24px\">\n",
              "    <path d=\"M0 0h24v24H0V0z\" fill=\"none\"/>\n",
              "    <path d=\"M18.56 5.44l.94 2.06.94-2.06 2.06-.94-2.06-.94-.94-2.06-.94 2.06-2.06.94zm-11 1L8.5 8.5l.94-2.06 2.06-.94-2.06-.94L8.5 2.5l-.94 2.06-2.06.94zm10 10l.94 2.06.94-2.06 2.06-.94-2.06-.94-.94-2.06-.94 2.06-2.06.94z\"/><path d=\"M17.41 7.96l-1.37-1.37c-.4-.4-.92-.59-1.43-.59-.52 0-1.04.2-1.43.59L10.3 9.45l-7.72 7.72c-.78.78-.78 2.05 0 2.83L4 21.41c.39.39.9.59 1.41.59.51 0 1.02-.2 1.41-.59l7.78-7.78 2.81-2.81c.8-.78.8-2.07 0-2.86zM5.41 20L4 18.59l7.72-7.72 1.47 1.35L5.41 20z\"/>\n",
              "  </svg>\n",
              "      </button>\n",
              "      \n",
              "  <style>\n",
              "    .colab-df-container {\n",
              "      display:flex;\n",
              "      flex-wrap:wrap;\n",
              "      gap: 12px;\n",
              "    }\n",
              "\n",
              "    .colab-df-convert {\n",
              "      background-color: #E8F0FE;\n",
              "      border: none;\n",
              "      border-radius: 50%;\n",
              "      cursor: pointer;\n",
              "      display: none;\n",
              "      fill: #1967D2;\n",
              "      height: 32px;\n",
              "      padding: 0 0 0 0;\n",
              "      width: 32px;\n",
              "    }\n",
              "\n",
              "    .colab-df-convert:hover {\n",
              "      background-color: #E2EBFA;\n",
              "      box-shadow: 0px 1px 2px rgba(60, 64, 67, 0.3), 0px 1px 3px 1px rgba(60, 64, 67, 0.15);\n",
              "      fill: #174EA6;\n",
              "    }\n",
              "\n",
              "    [theme=dark] .colab-df-convert {\n",
              "      background-color: #3B4455;\n",
              "      fill: #D2E3FC;\n",
              "    }\n",
              "\n",
              "    [theme=dark] .colab-df-convert:hover {\n",
              "      background-color: #434B5C;\n",
              "      box-shadow: 0px 1px 3px 1px rgba(0, 0, 0, 0.15);\n",
              "      filter: drop-shadow(0px 1px 2px rgba(0, 0, 0, 0.3));\n",
              "      fill: #FFFFFF;\n",
              "    }\n",
              "  </style>\n",
              "\n",
              "      <script>\n",
              "        const buttonEl =\n",
              "          document.querySelector('#df-ee59d29c-3e83-4c27-829b-b0be9476bcc4 button.colab-df-convert');\n",
              "        buttonEl.style.display =\n",
              "          google.colab.kernel.accessAllowed ? 'block' : 'none';\n",
              "\n",
              "        async function convertToInteractive(key) {\n",
              "          const element = document.querySelector('#df-ee59d29c-3e83-4c27-829b-b0be9476bcc4');\n",
              "          const dataTable =\n",
              "            await google.colab.kernel.invokeFunction('convertToInteractive',\n",
              "                                                     [key], {});\n",
              "          if (!dataTable) return;\n",
              "\n",
              "          const docLinkHtml = 'Like what you see? Visit the ' +\n",
              "            '<a target=\"_blank\" href=https://colab.research.google.com/notebooks/data_table.ipynb>data table notebook</a>'\n",
              "            + ' to learn more about interactive tables.';\n",
              "          element.innerHTML = '';\n",
              "          dataTable['output_type'] = 'display_data';\n",
              "          await google.colab.output.renderOutput(dataTable, element);\n",
              "          const docLink = document.createElement('div');\n",
              "          docLink.innerHTML = docLinkHtml;\n",
              "          element.appendChild(docLink);\n",
              "        }\n",
              "      </script>\n",
              "    </div>\n",
              "  </div>\n",
              "  "
            ]
          },
          "metadata": {},
          "execution_count": 53
        }
      ]
    },
    {
      "cell_type": "code",
      "source": [
        "# check the categorical data for inconsistencies\n",
        "dtypes = df.dtypes\n",
        "str_cols = dtypes[dtypes=='object'].index\n",
        "for col in str_cols:\n",
        "  print(f'Column= {col}')\n",
        "  print(df[col].value_counts())\n",
        "  print(' ')"
      ],
      "metadata": {
        "colab": {
          "base_uri": "https://localhost:8080/"
        },
        "id": "0Daq835SHttA",
        "outputId": "8d4fafb7-2fc8-4c6f-dac4-59e1c8960208"
      },
      "execution_count": 54,
      "outputs": [
        {
          "output_type": "stream",
          "name": "stdout",
          "text": [
            "Column= Sex\n",
            "male      491\n",
            "female    293\n",
            "Name: Sex, dtype: int64\n",
            " \n",
            "Column= Embarked\n",
            "S    568\n",
            "C    155\n",
            "Q     59\n",
            "Name: Embarked, dtype: int64\n",
            " \n"
          ]
        }
      ]
    },
    {
      "cell_type": "markdown",
      "source": [
        "  - There are no inconsistencies in categorical data.\n",
        "  - For machine learning, categorical data will be one-hot encoded."
      ],
      "metadata": {
        "id": "2qTn_PsTH4eF"
      }
    },
    {
      "cell_type": "code",
      "source": [
        "# check the balance of the target class\n",
        "df['Survived'].value_counts(normalize=True)"
      ],
      "metadata": {
        "colab": {
          "base_uri": "https://localhost:8080/"
        },
        "id": "2QPrTtnqFO5C",
        "outputId": "d1c761d0-edb1-4839-aed0-a6be169a64ef"
      },
      "execution_count": 55,
      "outputs": [
        {
          "output_type": "execute_result",
          "data": {
            "text/plain": [
              "0    0.58801\n",
              "1    0.41199\n",
              "Name: Survived, dtype: float64"
            ]
          },
          "metadata": {},
          "execution_count": 55
        }
      ]
    },
    {
      "cell_type": "markdown",
      "source": [
        "  - The target classes are mildly imbalanced (58.801% of the samples did not survive and 41.199% of the samples survived)."
      ],
      "metadata": {
        "id": "_-7uCoXTGDyn"
      }
    },
    {
      "cell_type": "markdown",
      "source": [
        "### Univariate visualizations"
      ],
      "metadata": {
        "id": "bG4wzcsAsOvE"
      }
    },
    {
      "cell_type": "markdown",
      "source": [
        "#### Graph to view the distribution of the target class"
      ],
      "metadata": {
        "id": "T9xLq94YnbA3"
      }
    },
    {
      "cell_type": "code",
      "source": [
        "sns.countplot(data = df, x = 'Survived')\n",
        "plt.title('Survival Distribution', fontsize = 16);"
      ],
      "metadata": {
        "id": "0Ojr-_NDgHmr",
        "colab": {
          "base_uri": "https://localhost:8080/",
          "height": 297
        },
        "outputId": "130ee95f-1c09-43c8-ec53-8bf9eec145b7"
      },
      "execution_count": 56,
      "outputs": [
        {
          "output_type": "display_data",
          "data": {
            "text/plain": [
              "<Figure size 432x288 with 1 Axes>"
            ],
            "image/png": "[encoded data removed]"
          },
          "metadata": {
            "needs_background": "light"
          }
        }
      ]
    },
    {
      "cell_type": "markdown",
      "source": [
        "  - The target class is mildly imbalanced--there were fewer survivors than not.\n"
      ],
      "metadata": {
        "id": "tYpLMtVrqNGt"
      }
    },
    {
      "cell_type": "markdown",
      "source": [
        "#### Graphs to view passenger characteristics"
      ],
      "metadata": {
        "id": "DIR0FheMqrfd"
      }
    },
    {
      "cell_type": "code",
      "source": [
        "fig, axes = plt.subplots(ncols = 2, figsize = (12,4))\n",
        "sns.countplot(data = df, x = 'Sex',  ax = axes[0])\n",
        "axes[0].set_title('Sex Distribution', fontsize = 15, fontweight = 'bold')\n",
        "sns.histplot(data = df, x = 'Age', ax = axes[1])\n",
        "axes[1].set_title('Age Distribution', fontsize = 15, fontweight = 'bold')\n",
        "fig.suptitle('Passenger Characteristics', fontsize = 20, fontweight = 'bold', y = 1.05)\n",
        "fig.tight_layout()"
      ],
      "metadata": {
        "colab": {
          "base_uri": "https://localhost:8080/",
          "height": 323
        },
        "id": "pMZVEyUmqwGy",
        "outputId": "7bf48e6e-6e87-43cc-8a7d-37507e0eebfe"
      },
      "execution_count": 57,
      "outputs": [
        {
          "output_type": "display_data",
          "data": {
            "text/plain": [
              "<Figure size 864x288 with 2 Axes>"
            ],
            "image/png": "[encoded data removed]"
          },
          "metadata": {
            "needs_background": "light"
          }
        }
      ]
    },
    {
      "cell_type": "markdown",
      "source": [
        "  - There were siginificantly more male passengers than female passengers.\n",
        "  - The age distribution of passengers was mildly right-skewed--most of the passengers were in their 20's and 30's, with a small spike in passengers younger than 4. "
      ],
      "metadata": {
        "id": "0K3GlOIrrtRP"
      }
    },
    {
      "cell_type": "markdown",
      "source": [
        "#### Graphs to view family characteristics"
      ],
      "metadata": {
        "id": "CSEuEO84spzf"
      }
    },
    {
      "cell_type": "code",
      "source": [
        "fig, axes = plt.subplots(ncols = 2, figsize = (12, 4))\n",
        "sns.histplot(data = df, x = 'SibSp',  ax = axes[0])\n",
        "axes[0].set_title('Siblings and Spouses', fontsize = 15, fontweight = 'bold')\n",
        "sns.histplot(data = df, x = 'Parch', ax = axes[1])\n",
        "axes[1].set_title('Parents and Children', fontsize = 15, fontweight = 'bold')\n",
        "fig.suptitle('Family Characteristics', fontsize = 20, fontweight = 'bold', y = 1.05)\n",
        "fig.tight_layout()"
      ],
      "metadata": {
        "colab": {
          "base_uri": "https://localhost:8080/",
          "height": 323
        },
        "id": "3JvaL3MQp7ay",
        "outputId": "ffb37711-6747-4a97-c32d-74f5a4f064ac"
      },
      "execution_count": 58,
      "outputs": [
        {
          "output_type": "display_data",
          "data": {
            "text/plain": [
              "<Figure size 864x288 with 2 Axes>"
            ],
            "image/png": "[encoded data removed]"
          },
          "metadata": {
            "needs_background": "light"
          }
        }
      ]
    },
    {
      "cell_type": "markdown",
      "source": [
        "  - The family distributions were both right-skewed--the majority of passengers had 0 siblings and spouses and had 0 parents and children."
      ],
      "metadata": {
        "id": "vbJvLLKWv0qs"
      }
    },
    {
      "cell_type": "markdown",
      "source": [
        "#### Graphs to view socio-economic characteristics"
      ],
      "metadata": {
        "id": "pUCvHqO2wZ99"
      }
    },
    {
      "cell_type": "code",
      "source": [
        "fig, axes = plt.subplots(ncols = 1, nrows = 2, figsize = (12, 8))\n",
        "sns.countplot(data = df, x = 'Pclass',  ax = axes[0])\n",
        "axes[0].set_title('Socio-Economic Status', fontsize = 15, fontweight = 'bold')\n",
        "sns.histplot(data = df, x = 'Fare', ax = axes[1])\n",
        "axes[1].set_title('Passenger Fare', fontsize = 15, fontweight = 'bold')\n",
        "fig.suptitle('Socio-Economic Characteristics', fontsize = 20, fontweight = 'bold', y = 1.05)\n",
        "fig.tight_layout()"
      ],
      "metadata": {
        "colab": {
          "base_uri": "https://localhost:8080/",
          "height": 625
        },
        "id": "nfkXoRqNvQ7s",
        "outputId": "9f6a0e90-e5ff-4a40-81b5-e955a9756800"
      },
      "execution_count": 59,
      "outputs": [
        {
          "output_type": "display_data",
          "data": {
            "text/plain": [
              "<Figure size 864x576 with 2 Axes>"
            ],
            "image/png": "[encoded data removed]"
          },
          "metadata": {
            "needs_background": "light"
          }
        }
      ]
    },
    {
      "cell_type": "markdown",
      "source": [
        "  - The majority of passengers were lower socioeconomic class.\n",
        "  - The distribution of passenger fares was right skewed, with the majority of tickets sold at lower fares."
      ],
      "metadata": {
        "id": "jbwM8eonxuMT"
      }
    },
    {
      "cell_type": "markdown",
      "source": [
        "#### Graph to view the place of embarcation"
      ],
      "metadata": {
        "id": "fxxZFDpHjRv3"
      }
    },
    {
      "cell_type": "code",
      "source": [
        "sns.countplot(data = df, x = 'Embarked')\n",
        "plt.title('Embarked Distribution', fontsize = 16);"
      ],
      "metadata": {
        "colab": {
          "base_uri": "https://localhost:8080/",
          "height": 297
        },
        "id": "6muTOLq-jRGw",
        "outputId": "d78360a2-06f2-4f04-a2a4-08d4cd9485cb"
      },
      "execution_count": 60,
      "outputs": [
        {
          "output_type": "display_data",
          "data": {
            "text/plain": [
              "<Figure size 432x288 with 1 Axes>"
            ],
            "image/png": "[encoded data removed]"
          },
          "metadata": {
            "needs_background": "light"
          }
        }
      ]
    },
    {
      "cell_type": "markdown",
      "source": [
        "  - The majority of passengers embarked at Southampton."
      ],
      "metadata": {
        "id": "r-BUVsXZjttM"
      }
    },
    {
      "cell_type": "markdown",
      "source": [
        "#### Boxplots to view outliers"
      ],
      "metadata": {
        "id": "2Qh5fquo26sR"
      }
    },
    {
      "cell_type": "code",
      "source": [
        "fig, axes = plt.subplots(ncols = 2, figsize = (12,4))\n",
        "sns.boxplot(data = df, x = 'Age',  ax = axes[0])\n",
        "axes[0].set_title('Age', fontsize = 15, fontweight = 'bold')\n",
        "sns.boxplot(data = df, x = 'Fare', ax = axes[1])\n",
        "axes[1].set_title('Fare', fontsize = 15, fontweight = 'bold')\n",
        "fig.suptitle('Distribution of Age and Fare', fontsize = 20, fontweight = 'bold', y = 1.05)\n",
        "fig.tight_layout()"
      ],
      "metadata": {
        "colab": {
          "base_uri": "https://localhost:8080/",
          "height": 323
        },
        "id": "ZK0txmW62-QI",
        "outputId": "6aa854fe-f605-4ea2-d91c-8bb21cbb1b11"
      },
      "execution_count": 61,
      "outputs": [
        {
          "output_type": "display_data",
          "data": {
            "text/plain": [
              "<Figure size 864x288 with 2 Axes>"
            ],
            "image/png": "[encoded data removed]"
          },
          "metadata": {
            "needs_background": "light"
          }
        }
      ]
    },
    {
      "cell_type": "markdown",
      "source": [
        "  - Both the Age and the Passenger Fare distributions have outliers above the maximum values."
      ],
      "metadata": {
        "id": "UtLoCIj113oP"
      }
    },
    {
      "cell_type": "markdown",
      "source": [
        "#### Correlation heatmap"
      ],
      "metadata": {
        "id": "LIbF6OXnmL9V"
      }
    },
    {
      "cell_type": "code",
      "source": [
        "corr = df.corr()\n",
        "sns.heatmap(corr, cmap = 'Blues', annot = True);"
      ],
      "metadata": {
        "id": "VjAtKI2v0I0E",
        "colab": {
          "base_uri": "https://localhost:8080/",
          "height": 269
        },
        "outputId": "95807ba1-a2c5-4eba-9313-5667abc55d21"
      },
      "execution_count": 62,
      "outputs": [
        {
          "output_type": "display_data",
          "data": {
            "text/plain": [
              "<Figure size 432x288 with 2 Axes>"
            ],
            "image/png": "[encoded data removed]"
          },
          "metadata": {
            "needs_background": "light"
          }
        }
      ]
    },
    {
      "cell_type": "markdown",
      "source": [
        "  - None of the features are strongly correlated with the target."
      ],
      "metadata": {
        "id": "sGQ0oVs7mSL1"
      }
    },
    {
      "cell_type": "markdown",
      "source": [
        "### Prepare the data for modeling"
      ],
      "metadata": {
        "id": "wBq9TmfUm4XW"
      }
    },
    {
      "cell_type": "markdown",
      "source": [
        "#### Arrange data into a features matrix and a target vector"
      ],
      "metadata": {
        "id": "w-bWBwRqnaF9"
      }
    },
    {
      "cell_type": "code",
      "source": [
        "X = df.drop(columns = 'Survived')\n",
        "y = df['Survived']"
      ],
      "metadata": {
        "id": "F02H1YFvl7NW"
      },
      "execution_count": 63,
      "outputs": []
    },
    {
      "cell_type": "markdown",
      "source": [
        "#### Train test split (model validation)"
      ],
      "metadata": {
        "id": "5SZ07OmgnxSr"
      }
    },
    {
      "cell_type": "code",
      "source": [
        "X_train, X_test, y_train, y_test = train_test_split(X, y, stratify = y, random_state = 42)"
      ],
      "metadata": {
        "id": "LKKGNmeInge2"
      },
      "execution_count": 64,
      "outputs": []
    },
    {
      "cell_type": "markdown",
      "source": [
        "#### Create a preprocessing pipeline to use with the models."
      ],
      "metadata": {
        "id": "--Bx9CnLsYqG"
      }
    },
    {
      "cell_type": "code",
      "source": [
        "#create a columntransformer for preprocessing\n",
        "#prepare the preprocessing object but do not preprocess the data yet--the data will be preprocessed inside the model pipeline\n",
        "#instantiate the transformers to impute missing values, one-hot encode the categorical data, and scale the numeric data\n",
        "mean_imputer = SimpleImputer(strategy = 'mean')\n",
        "ohe = OneHotEncoder(sparse=False, handle_unknown='ignore')\n",
        "scaler = StandardScaler()\n",
        "#prepare a separate processing pipeline for categorical data\n",
        "num_pipe = make_pipeline(mean_imputer, scaler)\n",
        "#create columnselectors for the numeric and categorical data\n",
        "cat_selector = make_column_selector(dtype_include='object')\n",
        "num_selector = make_column_selector(dtype_include='number')\n",
        "#combine the pipelines and columnselectors into tuples for the columntransformer\n",
        "cat_tuple = (ohe, cat_selector)\n",
        "num_tuple = (num_pipe, num_selector)\n",
        "#create the preprocessing columntransformer\n",
        "preprocessor = make_column_transformer(cat_tuple, num_tuple, remainder='drop')\n",
        "preprocessor"
      ],
      "metadata": {
        "colab": {
          "base_uri": "https://localhost:8080/",
          "height": 152
        },
        "id": "cxKmX8VRn5Un",
        "outputId": "b73e0d84-86a2-4f36-a0b9-bb9e4637a625"
      },
      "execution_count": 65,
      "outputs": [
        {
          "output_type": "execute_result",
          "data": {
            "text/plain": [
              "ColumnTransformer(transformers=[('onehotencoder',\n",
              "                                 OneHotEncoder(handle_unknown='ignore',\n",
              "                                               sparse=False),\n",
              "                                 <sklearn.compose._column_transformer.make_column_selector object at 0x7f6025cde610>),\n",
              "                                ('pipeline',\n",
              "                                 Pipeline(steps=[('simpleimputer',\n",
              "                                                  SimpleImputer()),\n",
              "                                                 ('standardscaler',\n",
              "                                                  StandardScaler())]),\n",
              "                                 <sklearn.compose._column_transformer.make_column_selector object at 0x7f6025cde520>)])"
            ],
            "text/html": [
              "<style>#sk-827ff16f-9b3d-49de-84b5-85525e422bed {color: black;background-color: white;}#sk-827ff16f-9b3d-49de-84b5-85525e422bed pre{padding: 0;}#sk-827ff16f-9b3d-49de-84b5-85525e422bed div.sk-toggleable {background-color: white;}#sk-827ff16f-9b3d-49de-84b5-85525e422bed label.sk-toggleable__label {cursor: pointer;display: block;width: 100%;margin-bottom: 0;padding: 0.3em;box-sizing: border-box;text-align: center;}#sk-827ff16f-9b3d-49de-84b5-85525e422bed label.sk-toggleable__label-arrow:before {content: \"▸\";float: left;margin-right: 0.25em;color: #696969;}#sk-827ff16f-9b3d-49de-84b5-85525e422bed label.sk-toggleable__label-arrow:hover:before {color: black;}#sk-827ff16f-9b3d-49de-84b5-85525e422bed div.sk-estimator:hover label.sk-toggleable__label-arrow:before {color: black;}#sk-827ff16f-9b3d-49de-84b5-85525e422bed div.sk-toggleable__content {max-height: 0;max-width: 0;overflow: hidden;text-align: left;background-color: #f0f8ff;}#sk-827ff16f-9b3d-49de-84b5-85525e422bed div.sk-toggleable__content pre {margin: 0.2em;color: black;border-radius: 0.25em;background-color: #f0f8ff;}#sk-827ff16f-9b3d-49de-84b5-85525e422bed input.sk-toggleable__control:checked~div.sk-toggleable__content {max-height: 200px;max-width: 100%;overflow: auto;}#sk-827ff16f-9b3d-49de-84b5-85525e422bed input.sk-toggleable__control:checked~label.sk-toggleable__label-arrow:before {content: \"▾\";}#sk-827ff16f-9b3d-49de-84b5-85525e422bed div.sk-estimator input.sk-toggleable__control:checked~label.sk-toggleable__label {background-color: #d4ebff;}#sk-827ff16f-9b3d-49de-84b5-85525e422bed div.sk-label input.sk-toggleable__control:checked~label.sk-toggleable__label {background-color: #d4ebff;}#sk-827ff16f-9b3d-49de-84b5-85525e422bed input.sk-hidden--visually {border: 0;clip: rect(1px 1px 1px 1px);clip: rect(1px, 1px, 1px, 1px);height: 1px;margin: -1px;overflow: hidden;padding: 0;position: absolute;width: 1px;}#sk-827ff16f-9b3d-49de-84b5-85525e422bed div.sk-estimator {font-family: monospace;background-color: #f0f8ff;border: 1px dotted black;border-radius: 0.25em;box-sizing: border-box;margin-bottom: 0.5em;}#sk-827ff16f-9b3d-49de-84b5-85525e422bed div.sk-estimator:hover {background-color: #d4ebff;}#sk-827ff16f-9b3d-49de-84b5-85525e422bed div.sk-parallel-item::after {content: \"\";width: 100%;border-bottom: 1px solid gray;flex-grow: 1;}#sk-827ff16f-9b3d-49de-84b5-85525e422bed div.sk-label:hover label.sk-toggleable__label {background-color: #d4ebff;}#sk-827ff16f-9b3d-49de-84b5-85525e422bed div.sk-serial::before {content: \"\";position: absolute;border-left: 1px solid gray;box-sizing: border-box;top: 2em;bottom: 0;left: 50%;}#sk-827ff16f-9b3d-49de-84b5-85525e422bed div.sk-serial {display: flex;flex-direction: column;align-items: center;background-color: white;padding-right: 0.2em;padding-left: 0.2em;}#sk-827ff16f-9b3d-49de-84b5-85525e422bed div.sk-item {z-index: 1;}#sk-827ff16f-9b3d-49de-84b5-85525e422bed div.sk-parallel {display: flex;align-items: stretch;justify-content: center;background-color: white;}#sk-827ff16f-9b3d-49de-84b5-85525e422bed div.sk-parallel::before {content: \"\";position: absolute;border-left: 1px solid gray;box-sizing: border-box;top: 2em;bottom: 0;left: 50%;}#sk-827ff16f-9b3d-49de-84b5-85525e422bed div.sk-parallel-item {display: flex;flex-direction: column;position: relative;background-color: white;}#sk-827ff16f-9b3d-49de-84b5-85525e422bed div.sk-parallel-item:first-child::after {align-self: flex-end;width: 50%;}#sk-827ff16f-9b3d-49de-84b5-85525e422bed div.sk-parallel-item:last-child::after {align-self: flex-start;width: 50%;}#sk-827ff16f-9b3d-49de-84b5-85525e422bed div.sk-parallel-item:only-child::after {width: 0;}#sk-827ff16f-9b3d-49de-84b5-85525e422bed div.sk-dashed-wrapped {border: 1px dashed gray;margin: 0 0.4em 0.5em 0.4em;box-sizing: border-box;padding-bottom: 0.4em;background-color: white;position: relative;}#sk-827ff16f-9b3d-49de-84b5-85525e422bed div.sk-label label {font-family: monospace;font-weight: bold;background-color: white;display: inline-block;line-height: 1.2em;}#sk-827ff16f-9b3d-49de-84b5-85525e422bed div.sk-label-container {position: relative;z-index: 2;text-align: center;}#sk-827ff16f-9b3d-49de-84b5-85525e422bed div.sk-container {/* jupyter's `normalize.less` sets `[hidden] { display: none; }` but bootstrap.min.css set `[hidden] { display: none !important; }` so we also need the `!important` here to be able to override the default hidden behavior on the sphinx rendered scikit-learn.org. See: https://github.com/scikit-learn/scikit-learn/issues/21755 */display: inline-block !important;position: relative;}#sk-827ff16f-9b3d-49de-84b5-85525e422bed div.sk-text-repr-fallback {display: none;}</style><div id=\"sk-827ff16f-9b3d-49de-84b5-85525e422bed\" class=\"sk-top-container\"><div class=\"sk-text-repr-fallback\"><pre>ColumnTransformer(transformers=[(&#x27;onehotencoder&#x27;,\n",
              "                                 OneHotEncoder(handle_unknown=&#x27;ignore&#x27;,\n",
              "                                               sparse=False),\n",
              "                                 &lt;sklearn.compose._column_transformer.make_column_selector object at 0x7f6025cde610&gt;),\n",
              "                                (&#x27;pipeline&#x27;,\n",
              "                                 Pipeline(steps=[(&#x27;simpleimputer&#x27;,\n",
              "                                                  SimpleImputer()),\n",
              "                                                 (&#x27;standardscaler&#x27;,\n",
              "                                                  StandardScaler())]),\n",
              "                                 &lt;sklearn.compose._column_transformer.make_column_selector object at 0x7f6025cde520&gt;)])</pre><b>Please rerun this cell to show the HTML repr or trust the notebook.</b></div><div class=\"sk-container\" hidden><div class=\"sk-item sk-dashed-wrapped\"><div class=\"sk-label-container\"><div class=\"sk-label sk-toggleable\"><input class=\"sk-toggleable__control sk-hidden--visually\" id=\"23f6cde0-f3a9-4bc7-a4ce-4e23378cf790\" type=\"checkbox\" ><label for=\"23f6cde0-f3a9-4bc7-a4ce-4e23378cf790\" class=\"sk-toggleable__label sk-toggleable__label-arrow\">ColumnTransformer</label><div class=\"sk-toggleable__content\"><pre>ColumnTransformer(transformers=[(&#x27;onehotencoder&#x27;,\n",
              "                                 OneHotEncoder(handle_unknown=&#x27;ignore&#x27;,\n",
              "                                               sparse=False),\n",
              "                                 &lt;sklearn.compose._column_transformer.make_column_selector object at 0x7f6025cde610&gt;),\n",
              "                                (&#x27;pipeline&#x27;,\n",
              "                                 Pipeline(steps=[(&#x27;simpleimputer&#x27;,\n",
              "                                                  SimpleImputer()),\n",
              "                                                 (&#x27;standardscaler&#x27;,\n",
              "                                                  StandardScaler())]),\n",
              "                                 &lt;sklearn.compose._column_transformer.make_column_selector object at 0x7f6025cde520&gt;)])</pre></div></div></div><div class=\"sk-parallel\"><div class=\"sk-parallel-item\"><div class=\"sk-item\"><div class=\"sk-label-container\"><div class=\"sk-label sk-toggleable\"><input class=\"sk-toggleable__control sk-hidden--visually\" id=\"994d7d4d-32dd-4e77-a787-169acde8e410\" type=\"checkbox\" ><label for=\"994d7d4d-32dd-4e77-a787-169acde8e410\" class=\"sk-toggleable__label sk-toggleable__label-arrow\">onehotencoder</label><div class=\"sk-toggleable__content\"><pre>&lt;sklearn.compose._column_transformer.make_column_selector object at 0x7f6025cde610&gt;</pre></div></div></div><div class=\"sk-serial\"><div class=\"sk-item\"><div class=\"sk-estimator sk-toggleable\"><input class=\"sk-toggleable__control sk-hidden--visually\" id=\"babae929-a21a-4db4-b81d-01eb938e6d2e\" type=\"checkbox\" ><label for=\"babae929-a21a-4db4-b81d-01eb938e6d2e\" class=\"sk-toggleable__label sk-toggleable__label-arrow\">OneHotEncoder</label><div class=\"sk-toggleable__content\"><pre>OneHotEncoder(handle_unknown=&#x27;ignore&#x27;, sparse=False)</pre></div></div></div></div></div></div><div class=\"sk-parallel-item\"><div class=\"sk-item\"><div class=\"sk-label-container\"><div class=\"sk-label sk-toggleable\"><input class=\"sk-toggleable__control sk-hidden--visually\" id=\"b2cb7ed6-6469-4e81-ab4d-934736c13294\" type=\"checkbox\" ><label for=\"b2cb7ed6-6469-4e81-ab4d-934736c13294\" class=\"sk-toggleable__label sk-toggleable__label-arrow\">pipeline</label><div class=\"sk-toggleable__content\"><pre>&lt;sklearn.compose._column_transformer.make_column_selector object at 0x7f6025cde520&gt;</pre></div></div></div><div class=\"sk-serial\"><div class=\"sk-item\"><div class=\"sk-serial\"><div class=\"sk-item\"><div class=\"sk-estimator sk-toggleable\"><input class=\"sk-toggleable__control sk-hidden--visually\" id=\"9c356b44-77e5-488f-a3bf-61c487f685ab\" type=\"checkbox\" ><label for=\"9c356b44-77e5-488f-a3bf-61c487f685ab\" class=\"sk-toggleable__label sk-toggleable__label-arrow\">SimpleImputer</label><div class=\"sk-toggleable__content\"><pre>SimpleImputer()</pre></div></div></div><div class=\"sk-item\"><div class=\"sk-estimator sk-toggleable\"><input class=\"sk-toggleable__control sk-hidden--visually\" id=\"a7fe2f1c-049f-4289-b40a-0c3342dacf6a\" type=\"checkbox\" ><label for=\"a7fe2f1c-049f-4289-b40a-0c3342dacf6a\" class=\"sk-toggleable__label sk-toggleable__label-arrow\">StandardScaler</label><div class=\"sk-toggleable__content\"><pre>StandardScaler()</pre></div></div></div></div></div></div></div></div></div></div></div></div>"
            ]
          },
          "metadata": {},
          "execution_count": 65
        }
      ]
    },
    {
      "cell_type": "markdown",
      "source": [
        "### Dummy Classifier"
      ],
      "metadata": {
        "id": "wi7MyJSOufF8"
      }
    },
    {
      "cell_type": "code",
      "source": [
        "#instantiate and fit the Dummy Classifier\n",
        "dum = DummyClassifier(strategy = 'stratified', random_state=42)\n",
        "dum_pipe = make_pipeline(preprocessor, dum)\n",
        "dum_pipe.fit(X_train, y_train)"
      ],
      "metadata": {
        "colab": {
          "base_uri": "https://localhost:8080/",
          "height": 227
        },
        "id": "7Rgc1XSXuQV8",
        "outputId": "d5e1cc35-2190-42e4-cfe0-35fc4dd1ba29"
      },
      "execution_count": 66,
      "outputs": [
        {
          "output_type": "execute_result",
          "data": {
            "text/plain": [
              "Pipeline(steps=[('columntransformer',\n",
              "                 ColumnTransformer(transformers=[('onehotencoder',\n",
              "                                                  OneHotEncoder(handle_unknown='ignore',\n",
              "                                                                sparse=False),\n",
              "                                                  <sklearn.compose._column_transformer.make_column_selector object at 0x7f6025cde610>),\n",
              "                                                 ('pipeline',\n",
              "                                                  Pipeline(steps=[('simpleimputer',\n",
              "                                                                   SimpleImputer()),\n",
              "                                                                  ('standardscaler',\n",
              "                                                                   StandardScaler())]),\n",
              "                                                  <sklearn.compose._column_transformer.make_column_selector object at 0x7f6025cde520>)])),\n",
              "                ('dummyclassifier',\n",
              "                 DummyClassifier(random_state=42, strategy='stratified'))])"
            ],
            "text/html": [
              "<style>#sk-ee779bd7-3469-46cb-8a66-5029343dc73c {color: black;background-color: white;}#sk-ee779bd7-3469-46cb-8a66-5029343dc73c pre{padding: 0;}#sk-ee779bd7-3469-46cb-8a66-5029343dc73c div.sk-toggleable {background-color: white;}#sk-ee779bd7-3469-46cb-8a66-5029343dc73c label.sk-toggleable__label {cursor: pointer;display: block;width: 100%;margin-bottom: 0;padding: 0.3em;box-sizing: border-box;text-align: center;}#sk-ee779bd7-3469-46cb-8a66-5029343dc73c label.sk-toggleable__label-arrow:before {content: \"▸\";float: left;margin-right: 0.25em;color: #696969;}#sk-ee779bd7-3469-46cb-8a66-5029343dc73c label.sk-toggleable__label-arrow:hover:before {color: black;}#sk-ee779bd7-3469-46cb-8a66-5029343dc73c div.sk-estimator:hover label.sk-toggleable__label-arrow:before {color: black;}#sk-ee779bd7-3469-46cb-8a66-5029343dc73c div.sk-toggleable__content {max-height: 0;max-width: 0;overflow: hidden;text-align: left;background-color: #f0f8ff;}#sk-ee779bd7-3469-46cb-8a66-5029343dc73c div.sk-toggleable__content pre {margin: 0.2em;color: black;border-radius: 0.25em;background-color: #f0f8ff;}#sk-ee779bd7-3469-46cb-8a66-5029343dc73c input.sk-toggleable__control:checked~div.sk-toggleable__content {max-height: 200px;max-width: 100%;overflow: auto;}#sk-ee779bd7-3469-46cb-8a66-5029343dc73c input.sk-toggleable__control:checked~label.sk-toggleable__label-arrow:before {content: \"▾\";}#sk-ee779bd7-3469-46cb-8a66-5029343dc73c div.sk-estimator input.sk-toggleable__control:checked~label.sk-toggleable__label {background-color: #d4ebff;}#sk-ee779bd7-3469-46cb-8a66-5029343dc73c div.sk-label input.sk-toggleable__control:checked~label.sk-toggleable__label {background-color: #d4ebff;}#sk-ee779bd7-3469-46cb-8a66-5029343dc73c input.sk-hidden--visually {border: 0;clip: rect(1px 1px 1px 1px);clip: rect(1px, 1px, 1px, 1px);height: 1px;margin: -1px;overflow: hidden;padding: 0;position: absolute;width: 1px;}#sk-ee779bd7-3469-46cb-8a66-5029343dc73c div.sk-estimator {font-family: monospace;background-color: #f0f8ff;border: 1px dotted black;border-radius: 0.25em;box-sizing: border-box;margin-bottom: 0.5em;}#sk-ee779bd7-3469-46cb-8a66-5029343dc73c div.sk-estimator:hover {background-color: #d4ebff;}#sk-ee779bd7-3469-46cb-8a66-5029343dc73c div.sk-parallel-item::after {content: \"\";width: 100%;border-bottom: 1px solid gray;flex-grow: 1;}#sk-ee779bd7-3469-46cb-8a66-5029343dc73c div.sk-label:hover label.sk-toggleable__label {background-color: #d4ebff;}#sk-ee779bd7-3469-46cb-8a66-5029343dc73c div.sk-serial::before {content: \"\";position: absolute;border-left: 1px solid gray;box-sizing: border-box;top: 2em;bottom: 0;left: 50%;}#sk-ee779bd7-3469-46cb-8a66-5029343dc73c div.sk-serial {display: flex;flex-direction: column;align-items: center;background-color: white;padding-right: 0.2em;padding-left: 0.2em;}#sk-ee779bd7-3469-46cb-8a66-5029343dc73c div.sk-item {z-index: 1;}#sk-ee779bd7-3469-46cb-8a66-5029343dc73c div.sk-parallel {display: flex;align-items: stretch;justify-content: center;background-color: white;}#sk-ee779bd7-3469-46cb-8a66-5029343dc73c div.sk-parallel::before {content: \"\";position: absolute;border-left: 1px solid gray;box-sizing: border-box;top: 2em;bottom: 0;left: 50%;}#sk-ee779bd7-3469-46cb-8a66-5029343dc73c div.sk-parallel-item {display: flex;flex-direction: column;position: relative;background-color: white;}#sk-ee779bd7-3469-46cb-8a66-5029343dc73c div.sk-parallel-item:first-child::after {align-self: flex-end;width: 50%;}#sk-ee779bd7-3469-46cb-8a66-5029343dc73c div.sk-parallel-item:last-child::after {align-self: flex-start;width: 50%;}#sk-ee779bd7-3469-46cb-8a66-5029343dc73c div.sk-parallel-item:only-child::after {width: 0;}#sk-ee779bd7-3469-46cb-8a66-5029343dc73c div.sk-dashed-wrapped {border: 1px dashed gray;margin: 0 0.4em 0.5em 0.4em;box-sizing: border-box;padding-bottom: 0.4em;background-color: white;position: relative;}#sk-ee779bd7-3469-46cb-8a66-5029343dc73c div.sk-label label {font-family: monospace;font-weight: bold;background-color: white;display: inline-block;line-height: 1.2em;}#sk-ee779bd7-3469-46cb-8a66-5029343dc73c div.sk-label-container {position: relative;z-index: 2;text-align: center;}#sk-ee779bd7-3469-46cb-8a66-5029343dc73c div.sk-container {/* jupyter's `normalize.less` sets `[hidden] { display: none; }` but bootstrap.min.css set `[hidden] { display: none !important; }` so we also need the `!important` here to be able to override the default hidden behavior on the sphinx rendered scikit-learn.org. See: https://github.com/scikit-learn/scikit-learn/issues/21755 */display: inline-block !important;position: relative;}#sk-ee779bd7-3469-46cb-8a66-5029343dc73c div.sk-text-repr-fallback {display: none;}</style><div id=\"sk-ee779bd7-3469-46cb-8a66-5029343dc73c\" class=\"sk-top-container\"><div class=\"sk-text-repr-fallback\"><pre>Pipeline(steps=[(&#x27;columntransformer&#x27;,\n",
              "                 ColumnTransformer(transformers=[(&#x27;onehotencoder&#x27;,\n",
              "                                                  OneHotEncoder(handle_unknown=&#x27;ignore&#x27;,\n",
              "                                                                sparse=False),\n",
              "                                                  &lt;sklearn.compose._column_transformer.make_column_selector object at 0x7f6025cde610&gt;),\n",
              "                                                 (&#x27;pipeline&#x27;,\n",
              "                                                  Pipeline(steps=[(&#x27;simpleimputer&#x27;,\n",
              "                                                                   SimpleImputer()),\n",
              "                                                                  (&#x27;standardscaler&#x27;,\n",
              "                                                                   StandardScaler())]),\n",
              "                                                  &lt;sklearn.compose._column_transformer.make_column_selector object at 0x7f6025cde520&gt;)])),\n",
              "                (&#x27;dummyclassifier&#x27;,\n",
              "                 DummyClassifier(random_state=42, strategy=&#x27;stratified&#x27;))])</pre><b>Please rerun this cell to show the HTML repr or trust the notebook.</b></div><div class=\"sk-container\" hidden><div class=\"sk-item sk-dashed-wrapped\"><div class=\"sk-label-container\"><div class=\"sk-label sk-toggleable\"><input class=\"sk-toggleable__control sk-hidden--visually\" id=\"6bc904c8-4bae-4d93-85f9-cb4a09eaeeec\" type=\"checkbox\" ><label for=\"6bc904c8-4bae-4d93-85f9-cb4a09eaeeec\" class=\"sk-toggleable__label sk-toggleable__label-arrow\">Pipeline</label><div class=\"sk-toggleable__content\"><pre>Pipeline(steps=[(&#x27;columntransformer&#x27;,\n",
              "                 ColumnTransformer(transformers=[(&#x27;onehotencoder&#x27;,\n",
              "                                                  OneHotEncoder(handle_unknown=&#x27;ignore&#x27;,\n",
              "                                                                sparse=False),\n",
              "                                                  &lt;sklearn.compose._column_transformer.make_column_selector object at 0x7f6025cde610&gt;),\n",
              "                                                 (&#x27;pipeline&#x27;,\n",
              "                                                  Pipeline(steps=[(&#x27;simpleimputer&#x27;,\n",
              "                                                                   SimpleImputer()),\n",
              "                                                                  (&#x27;standardscaler&#x27;,\n",
              "                                                                   StandardScaler())]),\n",
              "                                                  &lt;sklearn.compose._column_transformer.make_column_selector object at 0x7f6025cde520&gt;)])),\n",
              "                (&#x27;dummyclassifier&#x27;,\n",
              "                 DummyClassifier(random_state=42, strategy=&#x27;stratified&#x27;))])</pre></div></div></div><div class=\"sk-serial\"><div class=\"sk-item sk-dashed-wrapped\"><div class=\"sk-label-container\"><div class=\"sk-label sk-toggleable\"><input class=\"sk-toggleable__control sk-hidden--visually\" id=\"7a62c4a5-aea7-45e5-aaeb-b8d5661449cf\" type=\"checkbox\" ><label for=\"7a62c4a5-aea7-45e5-aaeb-b8d5661449cf\" class=\"sk-toggleable__label sk-toggleable__label-arrow\">columntransformer: ColumnTransformer</label><div class=\"sk-toggleable__content\"><pre>ColumnTransformer(transformers=[(&#x27;onehotencoder&#x27;,\n",
              "                                 OneHotEncoder(handle_unknown=&#x27;ignore&#x27;,\n",
              "                                               sparse=False),\n",
              "                                 &lt;sklearn.compose._column_transformer.make_column_selector object at 0x7f6025cde610&gt;),\n",
              "                                (&#x27;pipeline&#x27;,\n",
              "                                 Pipeline(steps=[(&#x27;simpleimputer&#x27;,\n",
              "                                                  SimpleImputer()),\n",
              "                                                 (&#x27;standardscaler&#x27;,\n",
              "                                                  StandardScaler())]),\n",
              "                                 &lt;sklearn.compose._column_transformer.make_column_selector object at 0x7f6025cde520&gt;)])</pre></div></div></div><div class=\"sk-parallel\"><div class=\"sk-parallel-item\"><div class=\"sk-item\"><div class=\"sk-label-container\"><div class=\"sk-label sk-toggleable\"><input class=\"sk-toggleable__control sk-hidden--visually\" id=\"79be1af4-4ffb-46c4-ac13-06830257e604\" type=\"checkbox\" ><label for=\"79be1af4-4ffb-46c4-ac13-06830257e604\" class=\"sk-toggleable__label sk-toggleable__label-arrow\">onehotencoder</label><div class=\"sk-toggleable__content\"><pre>&lt;sklearn.compose._column_transformer.make_column_selector object at 0x7f6025cde610&gt;</pre></div></div></div><div class=\"sk-serial\"><div class=\"sk-item\"><div class=\"sk-estimator sk-toggleable\"><input class=\"sk-toggleable__control sk-hidden--visually\" id=\"4f339f50-47e3-461e-8653-ceedfd7d41fb\" type=\"checkbox\" ><label for=\"4f339f50-47e3-461e-8653-ceedfd7d41fb\" class=\"sk-toggleable__label sk-toggleable__label-arrow\">OneHotEncoder</label><div class=\"sk-toggleable__content\"><pre>OneHotEncoder(handle_unknown=&#x27;ignore&#x27;, sparse=False)</pre></div></div></div></div></div></div><div class=\"sk-parallel-item\"><div class=\"sk-item\"><div class=\"sk-label-container\"><div class=\"sk-label sk-toggleable\"><input class=\"sk-toggleable__control sk-hidden--visually\" id=\"3e0d2a5c-9f22-4efb-be3d-a718348bfc62\" type=\"checkbox\" ><label for=\"3e0d2a5c-9f22-4efb-be3d-a718348bfc62\" class=\"sk-toggleable__label sk-toggleable__label-arrow\">pipeline</label><div class=\"sk-toggleable__content\"><pre>&lt;sklearn.compose._column_transformer.make_column_selector object at 0x7f6025cde520&gt;</pre></div></div></div><div class=\"sk-serial\"><div class=\"sk-item\"><div class=\"sk-serial\"><div class=\"sk-item\"><div class=\"sk-estimator sk-toggleable\"><input class=\"sk-toggleable__control sk-hidden--visually\" id=\"40b613a6-1432-46c6-9c7a-61596c249f15\" type=\"checkbox\" ><label for=\"40b613a6-1432-46c6-9c7a-61596c249f15\" class=\"sk-toggleable__label sk-toggleable__label-arrow\">SimpleImputer</label><div class=\"sk-toggleable__content\"><pre>SimpleImputer()</pre></div></div></div><div class=\"sk-item\"><div class=\"sk-estimator sk-toggleable\"><input class=\"sk-toggleable__control sk-hidden--visually\" id=\"a857112e-2858-47f2-b8c1-e37c1619fb3f\" type=\"checkbox\" ><label for=\"a857112e-2858-47f2-b8c1-e37c1619fb3f\" class=\"sk-toggleable__label sk-toggleable__label-arrow\">StandardScaler</label><div class=\"sk-toggleable__content\"><pre>StandardScaler()</pre></div></div></div></div></div></div></div></div></div></div><div class=\"sk-item\"><div class=\"sk-estimator sk-toggleable\"><input class=\"sk-toggleable__control sk-hidden--visually\" id=\"cbdbe6f0-6373-4d89-96ca-84664634754f\" type=\"checkbox\" ><label for=\"cbdbe6f0-6373-4d89-96ca-84664634754f\" class=\"sk-toggleable__label sk-toggleable__label-arrow\">DummyClassifier</label><div class=\"sk-toggleable__content\"><pre>DummyClassifier(random_state=42, strategy=&#x27;stratified&#x27;)</pre></div></div></div></div></div></div></div>"
            ]
          },
          "metadata": {},
          "execution_count": 66
        }
      ]
    },
    {
      "cell_type": "code",
      "source": [
        "#make predictions\n",
        "train_preds_dum_pipe = dum_pipe.predict(X_train)\n",
        "test_preds_dum_pipe = dum_pipe.predict(X_test)"
      ],
      "metadata": {
        "id": "4kRvIbXnusW1"
      },
      "execution_count": 67,
      "outputs": []
    },
    {
      "cell_type": "code",
      "source": [
        "#print classification reports for the training and the testing data\n",
        "print('Dummy Classifier Classification Report for Training Data')\n",
        "print(classification_report(y_train, train_preds_dum_pipe))\n",
        "print('Dummy Classifier Classification Report for Testing Data')\n",
        "print(classification_report(y_test, test_preds_dum_pipe))"
      ],
      "metadata": {
        "colab": {
          "base_uri": "https://localhost:8080/"
        },
        "id": "75-WCDONu5Hk",
        "outputId": "46a72014-eb2e-46af-ed10-9e07dbfa1c30"
      },
      "execution_count": 68,
      "outputs": [
        {
          "output_type": "stream",
          "name": "stdout",
          "text": [
            "Dummy Classifier Classification Report for Training Data\n",
            "              precision    recall  f1-score   support\n",
            "\n",
            "           0       0.59      0.57      0.58       346\n",
            "           1       0.41      0.43      0.42       242\n",
            "\n",
            "    accuracy                           0.51       588\n",
            "   macro avg       0.50      0.50      0.50       588\n",
            "weighted avg       0.52      0.51      0.51       588\n",
            "\n",
            "Dummy Classifier Classification Report for Testing Data\n",
            "              precision    recall  f1-score   support\n",
            "\n",
            "           0       0.55      0.57      0.56       115\n",
            "           1       0.36      0.35      0.35        81\n",
            "\n",
            "    accuracy                           0.47       196\n",
            "   macro avg       0.45      0.46      0.46       196\n",
            "weighted avg       0.47      0.47      0.47       196\n",
            "\n"
          ]
        }
      ]
    },
    {
      "cell_type": "markdown",
      "source": [
        "  - The Dummy Classifier is 47% accurate for making correct predictions on the test set.\n",
        "  - It was more successful at classifying those who did not survive than those who did survive.\n"
      ],
      "metadata": {
        "id": "8rsWSoo8aDD-"
      }
    },
    {
      "cell_type": "markdown",
      "source": [
        "### XGBClassifier"
      ],
      "metadata": {
        "id": "lDGFKQ19vIgc"
      }
    },
    {
      "cell_type": "code",
      "source": [
        "#instantiate and fit XGBoost\n",
        "xgb = XGBClassifier()\n",
        "xgb_pipe = make_pipeline(preprocessor, xgb)\n",
        "xgb_pipe.fit(X_train, y_train)"
      ],
      "metadata": {
        "colab": {
          "base_uri": "https://localhost:8080/",
          "height": 227
        },
        "id": "N2c8_sQ-u5tG",
        "outputId": "350cf29e-2b74-4010-84f2-0b7fb52904a8"
      },
      "execution_count": 69,
      "outputs": [
        {
          "output_type": "execute_result",
          "data": {
            "text/plain": [
              "Pipeline(steps=[('columntransformer',\n",
              "                 ColumnTransformer(transformers=[('onehotencoder',\n",
              "                                                  OneHotEncoder(handle_unknown='ignore',\n",
              "                                                                sparse=False),\n",
              "                                                  <sklearn.compose._column_transformer.make_column_selector object at 0x7f6025cde610>),\n",
              "                                                 ('pipeline',\n",
              "                                                  Pipeline(steps=[('simpleimputer',\n",
              "                                                                   SimpleImputer()),\n",
              "                                                                  ('standardscaler',\n",
              "                                                                   StandardScaler())]),\n",
              "                                                  <sklearn.compose._column_transformer.make_column_selector object at 0x7f6025cde520>)])),\n",
              "                ('xgbclassifier', XGBClassifier())])"
            ],
            "text/html": [
              "<style>#sk-42019cc1-200b-46b4-ad47-7f6d8c9f7656 {color: black;background-color: white;}#sk-42019cc1-200b-46b4-ad47-7f6d8c9f7656 pre{padding: 0;}#sk-42019cc1-200b-46b4-ad47-7f6d8c9f7656 div.sk-toggleable {background-color: white;}#sk-42019cc1-200b-46b4-ad47-7f6d8c9f7656 label.sk-toggleable__label {cursor: pointer;display: block;width: 100%;margin-bottom: 0;padding: 0.3em;box-sizing: border-box;text-align: center;}#sk-42019cc1-200b-46b4-ad47-7f6d8c9f7656 label.sk-toggleable__label-arrow:before {content: \"▸\";float: left;margin-right: 0.25em;color: #696969;}#sk-42019cc1-200b-46b4-ad47-7f6d8c9f7656 label.sk-toggleable__label-arrow:hover:before {color: black;}#sk-42019cc1-200b-46b4-ad47-7f6d8c9f7656 div.sk-estimator:hover label.sk-toggleable__label-arrow:before {color: black;}#sk-42019cc1-200b-46b4-ad47-7f6d8c9f7656 div.sk-toggleable__content {max-height: 0;max-width: 0;overflow: hidden;text-align: left;background-color: #f0f8ff;}#sk-42019cc1-200b-46b4-ad47-7f6d8c9f7656 div.sk-toggleable__content pre {margin: 0.2em;color: black;border-radius: 0.25em;background-color: #f0f8ff;}#sk-42019cc1-200b-46b4-ad47-7f6d8c9f7656 input.sk-toggleable__control:checked~div.sk-toggleable__content {max-height: 200px;max-width: 100%;overflow: auto;}#sk-42019cc1-200b-46b4-ad47-7f6d8c9f7656 input.sk-toggleable__control:checked~label.sk-toggleable__label-arrow:before {content: \"▾\";}#sk-42019cc1-200b-46b4-ad47-7f6d8c9f7656 div.sk-estimator input.sk-toggleable__control:checked~label.sk-toggleable__label {background-color: #d4ebff;}#sk-42019cc1-200b-46b4-ad47-7f6d8c9f7656 div.sk-label input.sk-toggleable__control:checked~label.sk-toggleable__label {background-color: #d4ebff;}#sk-42019cc1-200b-46b4-ad47-7f6d8c9f7656 input.sk-hidden--visually {border: 0;clip: rect(1px 1px 1px 1px);clip: rect(1px, 1px, 1px, 1px);height: 1px;margin: -1px;overflow: hidden;padding: 0;position: absolute;width: 1px;}#sk-42019cc1-200b-46b4-ad47-7f6d8c9f7656 div.sk-estimator {font-family: monospace;background-color: #f0f8ff;border: 1px dotted black;border-radius: 0.25em;box-sizing: border-box;margin-bottom: 0.5em;}#sk-42019cc1-200b-46b4-ad47-7f6d8c9f7656 div.sk-estimator:hover {background-color: #d4ebff;}#sk-42019cc1-200b-46b4-ad47-7f6d8c9f7656 div.sk-parallel-item::after {content: \"\";width: 100%;border-bottom: 1px solid gray;flex-grow: 1;}#sk-42019cc1-200b-46b4-ad47-7f6d8c9f7656 div.sk-label:hover label.sk-toggleable__label {background-color: #d4ebff;}#sk-42019cc1-200b-46b4-ad47-7f6d8c9f7656 div.sk-serial::before {content: \"\";position: absolute;border-left: 1px solid gray;box-sizing: border-box;top: 2em;bottom: 0;left: 50%;}#sk-42019cc1-200b-46b4-ad47-7f6d8c9f7656 div.sk-serial {display: flex;flex-direction: column;align-items: center;background-color: white;padding-right: 0.2em;padding-left: 0.2em;}#sk-42019cc1-200b-46b4-ad47-7f6d8c9f7656 div.sk-item {z-index: 1;}#sk-42019cc1-200b-46b4-ad47-7f6d8c9f7656 div.sk-parallel {display: flex;align-items: stretch;justify-content: center;background-color: white;}#sk-42019cc1-200b-46b4-ad47-7f6d8c9f7656 div.sk-parallel::before {content: \"\";position: absolute;border-left: 1px solid gray;box-sizing: border-box;top: 2em;bottom: 0;left: 50%;}#sk-42019cc1-200b-46b4-ad47-7f6d8c9f7656 div.sk-parallel-item {display: flex;flex-direction: column;position: relative;background-color: white;}#sk-42019cc1-200b-46b4-ad47-7f6d8c9f7656 div.sk-parallel-item:first-child::after {align-self: flex-end;width: 50%;}#sk-42019cc1-200b-46b4-ad47-7f6d8c9f7656 div.sk-parallel-item:last-child::after {align-self: flex-start;width: 50%;}#sk-42019cc1-200b-46b4-ad47-7f6d8c9f7656 div.sk-parallel-item:only-child::after {width: 0;}#sk-42019cc1-200b-46b4-ad47-7f6d8c9f7656 div.sk-dashed-wrapped {border: 1px dashed gray;margin: 0 0.4em 0.5em 0.4em;box-sizing: border-box;padding-bottom: 0.4em;background-color: white;position: relative;}#sk-42019cc1-200b-46b4-ad47-7f6d8c9f7656 div.sk-label label {font-family: monospace;font-weight: bold;background-color: white;display: inline-block;line-height: 1.2em;}#sk-42019cc1-200b-46b4-ad47-7f6d8c9f7656 div.sk-label-container {position: relative;z-index: 2;text-align: center;}#sk-42019cc1-200b-46b4-ad47-7f6d8c9f7656 div.sk-container {/* jupyter's `normalize.less` sets `[hidden] { display: none; }` but bootstrap.min.css set `[hidden] { display: none !important; }` so we also need the `!important` here to be able to override the default hidden behavior on the sphinx rendered scikit-learn.org. See: https://github.com/scikit-learn/scikit-learn/issues/21755 */display: inline-block !important;position: relative;}#sk-42019cc1-200b-46b4-ad47-7f6d8c9f7656 div.sk-text-repr-fallback {display: none;}</style><div id=\"sk-42019cc1-200b-46b4-ad47-7f6d8c9f7656\" class=\"sk-top-container\"><div class=\"sk-text-repr-fallback\"><pre>Pipeline(steps=[(&#x27;columntransformer&#x27;,\n",
              "                 ColumnTransformer(transformers=[(&#x27;onehotencoder&#x27;,\n",
              "                                                  OneHotEncoder(handle_unknown=&#x27;ignore&#x27;,\n",
              "                                                                sparse=False),\n",
              "                                                  &lt;sklearn.compose._column_transformer.make_column_selector object at 0x7f6025cde610&gt;),\n",
              "                                                 (&#x27;pipeline&#x27;,\n",
              "                                                  Pipeline(steps=[(&#x27;simpleimputer&#x27;,\n",
              "                                                                   SimpleImputer()),\n",
              "                                                                  (&#x27;standardscaler&#x27;,\n",
              "                                                                   StandardScaler())]),\n",
              "                                                  &lt;sklearn.compose._column_transformer.make_column_selector object at 0x7f6025cde520&gt;)])),\n",
              "                (&#x27;xgbclassifier&#x27;, XGBClassifier())])</pre><b>Please rerun this cell to show the HTML repr or trust the notebook.</b></div><div class=\"sk-container\" hidden><div class=\"sk-item sk-dashed-wrapped\"><div class=\"sk-label-container\"><div class=\"sk-label sk-toggleable\"><input class=\"sk-toggleable__control sk-hidden--visually\" id=\"3ecf7c65-9f68-4f13-a773-2db4d1c95615\" type=\"checkbox\" ><label for=\"3ecf7c65-9f68-4f13-a773-2db4d1c95615\" class=\"sk-toggleable__label sk-toggleable__label-arrow\">Pipeline</label><div class=\"sk-toggleable__content\"><pre>Pipeline(steps=[(&#x27;columntransformer&#x27;,\n",
              "                 ColumnTransformer(transformers=[(&#x27;onehotencoder&#x27;,\n",
              "                                                  OneHotEncoder(handle_unknown=&#x27;ignore&#x27;,\n",
              "                                                                sparse=False),\n",
              "                                                  &lt;sklearn.compose._column_transformer.make_column_selector object at 0x7f6025cde610&gt;),\n",
              "                                                 (&#x27;pipeline&#x27;,\n",
              "                                                  Pipeline(steps=[(&#x27;simpleimputer&#x27;,\n",
              "                                                                   SimpleImputer()),\n",
              "                                                                  (&#x27;standardscaler&#x27;,\n",
              "                                                                   StandardScaler())]),\n",
              "                                                  &lt;sklearn.compose._column_transformer.make_column_selector object at 0x7f6025cde520&gt;)])),\n",
              "                (&#x27;xgbclassifier&#x27;, XGBClassifier())])</pre></div></div></div><div class=\"sk-serial\"><div class=\"sk-item sk-dashed-wrapped\"><div class=\"sk-label-container\"><div class=\"sk-label sk-toggleable\"><input class=\"sk-toggleable__control sk-hidden--visually\" id=\"ef97d7e6-bb1e-4078-ad88-d69b61aee299\" type=\"checkbox\" ><label for=\"ef97d7e6-bb1e-4078-ad88-d69b61aee299\" class=\"sk-toggleable__label sk-toggleable__label-arrow\">columntransformer: ColumnTransformer</label><div class=\"sk-toggleable__content\"><pre>ColumnTransformer(transformers=[(&#x27;onehotencoder&#x27;,\n",
              "                                 OneHotEncoder(handle_unknown=&#x27;ignore&#x27;,\n",
              "                                               sparse=False),\n",
              "                                 &lt;sklearn.compose._column_transformer.make_column_selector object at 0x7f6025cde610&gt;),\n",
              "                                (&#x27;pipeline&#x27;,\n",
              "                                 Pipeline(steps=[(&#x27;simpleimputer&#x27;,\n",
              "                                                  SimpleImputer()),\n",
              "                                                 (&#x27;standardscaler&#x27;,\n",
              "                                                  StandardScaler())]),\n",
              "                                 &lt;sklearn.compose._column_transformer.make_column_selector object at 0x7f6025cde520&gt;)])</pre></div></div></div><div class=\"sk-parallel\"><div class=\"sk-parallel-item\"><div class=\"sk-item\"><div class=\"sk-label-container\"><div class=\"sk-label sk-toggleable\"><input class=\"sk-toggleable__control sk-hidden--visually\" id=\"9093c262-98d9-4935-a89e-40f9458df68c\" type=\"checkbox\" ><label for=\"9093c262-98d9-4935-a89e-40f9458df68c\" class=\"sk-toggleable__label sk-toggleable__label-arrow\">onehotencoder</label><div class=\"sk-toggleable__content\"><pre>&lt;sklearn.compose._column_transformer.make_column_selector object at 0x7f6025cde610&gt;</pre></div></div></div><div class=\"sk-serial\"><div class=\"sk-item\"><div class=\"sk-estimator sk-toggleable\"><input class=\"sk-toggleable__control sk-hidden--visually\" id=\"96edecdf-6300-4959-b3eb-312a643fa062\" type=\"checkbox\" ><label for=\"96edecdf-6300-4959-b3eb-312a643fa062\" class=\"sk-toggleable__label sk-toggleable__label-arrow\">OneHotEncoder</label><div class=\"sk-toggleable__content\"><pre>OneHotEncoder(handle_unknown=&#x27;ignore&#x27;, sparse=False)</pre></div></div></div></div></div></div><div class=\"sk-parallel-item\"><div class=\"sk-item\"><div class=\"sk-label-container\"><div class=\"sk-label sk-toggleable\"><input class=\"sk-toggleable__control sk-hidden--visually\" id=\"5d3afff3-689f-4183-9eb8-d829366f2046\" type=\"checkbox\" ><label for=\"5d3afff3-689f-4183-9eb8-d829366f2046\" class=\"sk-toggleable__label sk-toggleable__label-arrow\">pipeline</label><div class=\"sk-toggleable__content\"><pre>&lt;sklearn.compose._column_transformer.make_column_selector object at 0x7f6025cde520&gt;</pre></div></div></div><div class=\"sk-serial\"><div class=\"sk-item\"><div class=\"sk-serial\"><div class=\"sk-item\"><div class=\"sk-estimator sk-toggleable\"><input class=\"sk-toggleable__control sk-hidden--visually\" id=\"e7575dc5-ad2e-46b3-a8ec-621ff4b20fcd\" type=\"checkbox\" ><label for=\"e7575dc5-ad2e-46b3-a8ec-621ff4b20fcd\" class=\"sk-toggleable__label sk-toggleable__label-arrow\">SimpleImputer</label><div class=\"sk-toggleable__content\"><pre>SimpleImputer()</pre></div></div></div><div class=\"sk-item\"><div class=\"sk-estimator sk-toggleable\"><input class=\"sk-toggleable__control sk-hidden--visually\" id=\"15cd9c27-e31d-452c-882b-cc804494cffc\" type=\"checkbox\" ><label for=\"15cd9c27-e31d-452c-882b-cc804494cffc\" class=\"sk-toggleable__label sk-toggleable__label-arrow\">StandardScaler</label><div class=\"sk-toggleable__content\"><pre>StandardScaler()</pre></div></div></div></div></div></div></div></div></div></div><div class=\"sk-item\"><div class=\"sk-estimator sk-toggleable\"><input class=\"sk-toggleable__control sk-hidden--visually\" id=\"a3ddb329-15bd-4d45-96c7-943229391044\" type=\"checkbox\" ><label for=\"a3ddb329-15bd-4d45-96c7-943229391044\" class=\"sk-toggleable__label sk-toggleable__label-arrow\">XGBClassifier</label><div class=\"sk-toggleable__content\"><pre>XGBClassifier()</pre></div></div></div></div></div></div></div>"
            ]
          },
          "metadata": {},
          "execution_count": 69
        }
      ]
    },
    {
      "cell_type": "code",
      "source": [
        "#make predictions\n",
        "train_preds_xgb_pipe = xgb_pipe.predict(X_train)\n",
        "test_preds_xgb_pipe = xgb_pipe.predict(X_test)"
      ],
      "metadata": {
        "id": "BlrTYfHQvS04"
      },
      "execution_count": 70,
      "outputs": []
    },
    {
      "cell_type": "code",
      "source": [
        "#print classification reports for the training and the testing data\n",
        "print('XGBoost Classification Report for Training Data')\n",
        "print(classification_report(y_train, train_preds_xgb_pipe))\n",
        "print('XGBoost Classification Report for Testing Data')\n",
        "print(classification_report(y_test, test_preds_xgb_pipe))"
      ],
      "metadata": {
        "colab": {
          "base_uri": "https://localhost:8080/"
        },
        "id": "qCaEGMEvvWCK",
        "outputId": "41cc02e2-0f6b-4d3a-9a3c-0d935ce7902e"
      },
      "execution_count": 71,
      "outputs": [
        {
          "output_type": "stream",
          "name": "stdout",
          "text": [
            "XGBoost Classification Report for Training Data\n",
            "              precision    recall  f1-score   support\n",
            "\n",
            "           0       0.84      0.95      0.89       346\n",
            "           1       0.90      0.74      0.81       242\n",
            "\n",
            "    accuracy                           0.86       588\n",
            "   macro avg       0.87      0.84      0.85       588\n",
            "weighted avg       0.86      0.86      0.86       588\n",
            "\n",
            "XGBoost Classification Report for Testing Data\n",
            "              precision    recall  f1-score   support\n",
            "\n",
            "           0       0.81      0.91      0.86       115\n",
            "           1       0.85      0.70      0.77        81\n",
            "\n",
            "    accuracy                           0.83       196\n",
            "   macro avg       0.83      0.81      0.82       196\n",
            "weighted avg       0.83      0.83      0.82       196\n",
            "\n"
          ]
        }
      ]
    },
    {
      "cell_type": "code",
      "source": [
        "#check xgb_pipe parameters\n",
        "xgb_pipe.get_params()"
      ],
      "metadata": {
        "colab": {
          "base_uri": "https://localhost:8080/"
        },
        "id": "JfGVSt9nb1TN",
        "outputId": "29b5c766-3a63-44b5-a809-3a3a89e80ae0"
      },
      "execution_count": 72,
      "outputs": [
        {
          "output_type": "execute_result",
          "data": {
            "text/plain": [
              "{'memory': None,\n",
              " 'steps': [('columntransformer',\n",
              "   ColumnTransformer(transformers=[('onehotencoder',\n",
              "                                    OneHotEncoder(handle_unknown='ignore',\n",
              "                                                  sparse=False),\n",
              "                                    <sklearn.compose._column_transformer.make_column_selector object at 0x7f6025cde610>),\n",
              "                                   ('pipeline',\n",
              "                                    Pipeline(steps=[('simpleimputer',\n",
              "                                                     SimpleImputer()),\n",
              "                                                    ('standardscaler',\n",
              "                                                     StandardScaler())]),\n",
              "                                    <sklearn.compose._column_transformer.make_column_selector object at 0x7f6025cde520>)])),\n",
              "  ('xgbclassifier', XGBClassifier())],\n",
              " 'verbose': False,\n",
              " 'columntransformer': ColumnTransformer(transformers=[('onehotencoder',\n",
              "                                  OneHotEncoder(handle_unknown='ignore',\n",
              "                                                sparse=False),\n",
              "                                  <sklearn.compose._column_transformer.make_column_selector object at 0x7f6025cde610>),\n",
              "                                 ('pipeline',\n",
              "                                  Pipeline(steps=[('simpleimputer',\n",
              "                                                   SimpleImputer()),\n",
              "                                                  ('standardscaler',\n",
              "                                                   StandardScaler())]),\n",
              "                                  <sklearn.compose._column_transformer.make_column_selector object at 0x7f6025cde520>)]),\n",
              " 'xgbclassifier': XGBClassifier(),\n",
              " 'columntransformer__n_jobs': None,\n",
              " 'columntransformer__remainder': 'drop',\n",
              " 'columntransformer__sparse_threshold': 0.3,\n",
              " 'columntransformer__transformer_weights': None,\n",
              " 'columntransformer__transformers': [('onehotencoder',\n",
              "   OneHotEncoder(handle_unknown='ignore', sparse=False),\n",
              "   <sklearn.compose._column_transformer.make_column_selector at 0x7f6025cde610>),\n",
              "  ('pipeline', Pipeline(steps=[('simpleimputer', SimpleImputer()),\n",
              "                   ('standardscaler', StandardScaler())]), <sklearn.compose._column_transformer.make_column_selector at 0x7f6025cde520>)],\n",
              " 'columntransformer__verbose': False,\n",
              " 'columntransformer__verbose_feature_names_out': True,\n",
              " 'columntransformer__onehotencoder': OneHotEncoder(handle_unknown='ignore', sparse=False),\n",
              " 'columntransformer__pipeline': Pipeline(steps=[('simpleimputer', SimpleImputer()),\n",
              "                 ('standardscaler', StandardScaler())]),\n",
              " 'columntransformer__onehotencoder__categories': 'auto',\n",
              " 'columntransformer__onehotencoder__drop': None,\n",
              " 'columntransformer__onehotencoder__dtype': numpy.float64,\n",
              " 'columntransformer__onehotencoder__handle_unknown': 'ignore',\n",
              " 'columntransformer__onehotencoder__sparse': False,\n",
              " 'columntransformer__pipeline__memory': None,\n",
              " 'columntransformer__pipeline__steps': [('simpleimputer', SimpleImputer()),\n",
              "  ('standardscaler', StandardScaler())],\n",
              " 'columntransformer__pipeline__verbose': False,\n",
              " 'columntransformer__pipeline__simpleimputer': SimpleImputer(),\n",
              " 'columntransformer__pipeline__standardscaler': StandardScaler(),\n",
              " 'columntransformer__pipeline__simpleimputer__add_indicator': False,\n",
              " 'columntransformer__pipeline__simpleimputer__copy': True,\n",
              " 'columntransformer__pipeline__simpleimputer__fill_value': None,\n",
              " 'columntransformer__pipeline__simpleimputer__missing_values': nan,\n",
              " 'columntransformer__pipeline__simpleimputer__strategy': 'mean',\n",
              " 'columntransformer__pipeline__simpleimputer__verbose': 0,\n",
              " 'columntransformer__pipeline__standardscaler__copy': True,\n",
              " 'columntransformer__pipeline__standardscaler__with_mean': True,\n",
              " 'columntransformer__pipeline__standardscaler__with_std': True,\n",
              " 'xgbclassifier__base_score': 0.5,\n",
              " 'xgbclassifier__booster': 'gbtree',\n",
              " 'xgbclassifier__colsample_bylevel': 1,\n",
              " 'xgbclassifier__colsample_bynode': 1,\n",
              " 'xgbclassifier__colsample_bytree': 1,\n",
              " 'xgbclassifier__gamma': 0,\n",
              " 'xgbclassifier__learning_rate': 0.1,\n",
              " 'xgbclassifier__max_delta_step': 0,\n",
              " 'xgbclassifier__max_depth': 3,\n",
              " 'xgbclassifier__min_child_weight': 1,\n",
              " 'xgbclassifier__missing': None,\n",
              " 'xgbclassifier__n_estimators': 100,\n",
              " 'xgbclassifier__n_jobs': 1,\n",
              " 'xgbclassifier__nthread': None,\n",
              " 'xgbclassifier__objective': 'binary:logistic',\n",
              " 'xgbclassifier__random_state': 0,\n",
              " 'xgbclassifier__reg_alpha': 0,\n",
              " 'xgbclassifier__reg_lambda': 1,\n",
              " 'xgbclassifier__scale_pos_weight': 1,\n",
              " 'xgbclassifier__seed': None,\n",
              " 'xgbclassifier__silent': None,\n",
              " 'xgbclassifier__subsample': 1,\n",
              " 'xgbclassifier__verbosity': 1}"
            ]
          },
          "metadata": {},
          "execution_count": 72
        }
      ]
    },
    {
      "cell_type": "code",
      "source": [
        "#create a parameter grid dictionary\n",
        "param_grid1 = {'xgbclassifier__max_depth': range(1, 10),\n",
        "               'xgbclassifier__learning_rate': [.01, 0.1, 0.2],\n",
        "              'xgbclassifier__gamma': [0, 5, 10],\n",
        "              'xgbclassifier__min_child_weight': [0, 5, 10]}\n",
        "#instantiate the GridSearchCV object\n",
        "xgb_grid_search = GridSearchCV(xgb_pipe, param_grid1)\n",
        "#fit the GridSearchCV object on the training data\n",
        "xgb_grid_search.fit(X_train, y_train)\n",
        "#find the best parameters\n",
        "print(xgb_grid_search.best_params_)\n",
        "#find the accuracy of the best model\n",
        "best_xgb = xgb_grid_search.best_estimator_\n",
        "print(f'Accuracy of best XGBClassifier model is: {best_xgb.score(X_test, y_test)}')"
      ],
      "metadata": {
        "id": "LFVN9a2PcCY-",
        "colab": {
          "base_uri": "https://localhost:8080/"
        },
        "outputId": "656b0c63-b7b2-45f8-806c-7bd84f83279b"
      },
      "execution_count": 73,
      "outputs": [
        {
          "output_type": "stream",
          "name": "stdout",
          "text": [
            "{'xgbclassifier__gamma': 5, 'xgbclassifier__learning_rate': 0.1, 'xgbclassifier__max_depth': 3, 'xgbclassifier__min_child_weight': 0}\n",
            "Accuracy of best XGBClassifier model is: 0.7857142857142857\n"
          ]
        }
      ]
    },
    {
      "cell_type": "markdown",
      "source": [
        "  - Tuning the hyperparameters reduced the model's accuracy for making predictions on the test set.  "
      ],
      "metadata": {
        "id": "LQcnj9UitBbu"
      }
    },
    {
      "cell_type": "code",
      "source": [
        "#make predictions using the tuned XGBoost model\n",
        "xgb_tuned = XGBClassifier(max_depth = 3, learning_rate = 0.1, gamma = 5, min_child_weight = 0, random_state=42)\n",
        "xgb_tuned_pipe = make_pipeline(preprocessor, xgb_tuned)\n",
        "xgb_tuned_pipe.fit(X_train, y_train)\n",
        "train_preds_xgb_tuned = xgb_tuned_pipe.predict(X_train)\n",
        "test_preds_xgb_tuned = xgb_tuned_pipe.predict(X_test)"
      ],
      "metadata": {
        "id": "PbRNoQLCzWHI"
      },
      "execution_count": 74,
      "outputs": []
    },
    {
      "cell_type": "code",
      "source": [
        "#compare the precision, recall, and f1-scores on the testing data for the original XGBoost model and the tuned XGBoost model\n",
        "print('XGBoost Classification Report for Testing Data')\n",
        "print(classification_report(y_test, test_preds_xgb_pipe))\n",
        "print('Tuned XGBoost Classification Report for Testing Data')\n",
        "print(classification_report(y_test, test_preds_xgb_tuned))"
      ],
      "metadata": {
        "colab": {
          "base_uri": "https://localhost:8080/"
        },
        "id": "pN69BTk8tpLw",
        "outputId": "541b21f6-972c-47cd-d038-a79550d48515"
      },
      "execution_count": 75,
      "outputs": [
        {
          "output_type": "stream",
          "name": "stdout",
          "text": [
            "XGBoost Classification Report for Testing Data\n",
            "              precision    recall  f1-score   support\n",
            "\n",
            "           0       0.81      0.91      0.86       115\n",
            "           1       0.85      0.70      0.77        81\n",
            "\n",
            "    accuracy                           0.83       196\n",
            "   macro avg       0.83      0.81      0.82       196\n",
            "weighted avg       0.83      0.83      0.82       196\n",
            "\n",
            "Tuned XGBoost Classification Report for Testing Data\n",
            "              precision    recall  f1-score   support\n",
            "\n",
            "           0       0.74      0.98      0.84       115\n",
            "           1       0.95      0.51      0.66        81\n",
            "\n",
            "    accuracy                           0.79       196\n",
            "   macro avg       0.85      0.74      0.75       196\n",
            "weighted avg       0.83      0.79      0.77       196\n",
            "\n"
          ]
        }
      ]
    },
    {
      "cell_type": "markdown",
      "source": [
        "  - The tuned XGBoost model reduced the accuracy for making predictions on the test set, increased false negatives, and increased false positives.\n",
        "  - The original XGBoost was a better predictive model for survival."
      ],
      "metadata": {
        "id": "0TP1xRXtvlPW"
      }
    },
    {
      "cell_type": "markdown",
      "source": [
        "### LightGBM"
      ],
      "metadata": {
        "id": "EtM0NgF5v74M"
      }
    },
    {
      "cell_type": "code",
      "source": [
        "#instantiate and fit LightGBM\n",
        "lgbm = LGBMClassifier()\n",
        "lgbm_pipe = make_pipeline(preprocessor, lgbm)\n",
        "lgbm_pipe.fit(X_train, y_train)"
      ],
      "metadata": {
        "colab": {
          "base_uri": "https://localhost:8080/",
          "height": 227
        },
        "id": "Xi3BUkHVvYuv",
        "outputId": "22cd3ae8-509d-41a3-e637-e62baaf77d28"
      },
      "execution_count": 76,
      "outputs": [
        {
          "output_type": "execute_result",
          "data": {
            "text/plain": [
              "Pipeline(steps=[('columntransformer',\n",
              "                 ColumnTransformer(transformers=[('onehotencoder',\n",
              "                                                  OneHotEncoder(handle_unknown='ignore',\n",
              "                                                                sparse=False),\n",
              "                                                  <sklearn.compose._column_transformer.make_column_selector object at 0x7f6025cde610>),\n",
              "                                                 ('pipeline',\n",
              "                                                  Pipeline(steps=[('simpleimputer',\n",
              "                                                                   SimpleImputer()),\n",
              "                                                                  ('standardscaler',\n",
              "                                                                   StandardScaler())]),\n",
              "                                                  <sklearn.compose._column_transformer.make_column_selector object at 0x7f6025cde520>)])),\n",
              "                ('lgbmclassifier', LGBMClassifier())])"
            ],
            "text/html": [
              "<style>#sk-ede43abb-94ef-49e2-a017-c69fd335bf4e {color: black;background-color: white;}#sk-ede43abb-94ef-49e2-a017-c69fd335bf4e pre{padding: 0;}#sk-ede43abb-94ef-49e2-a017-c69fd335bf4e div.sk-toggleable {background-color: white;}#sk-ede43abb-94ef-49e2-a017-c69fd335bf4e label.sk-toggleable__label {cursor: pointer;display: block;width: 100%;margin-bottom: 0;padding: 0.3em;box-sizing: border-box;text-align: center;}#sk-ede43abb-94ef-49e2-a017-c69fd335bf4e label.sk-toggleable__label-arrow:before {content: \"▸\";float: left;margin-right: 0.25em;color: #696969;}#sk-ede43abb-94ef-49e2-a017-c69fd335bf4e label.sk-toggleable__label-arrow:hover:before {color: black;}#sk-ede43abb-94ef-49e2-a017-c69fd335bf4e div.sk-estimator:hover label.sk-toggleable__label-arrow:before {color: black;}#sk-ede43abb-94ef-49e2-a017-c69fd335bf4e div.sk-toggleable__content {max-height: 0;max-width: 0;overflow: hidden;text-align: left;background-color: #f0f8ff;}#sk-ede43abb-94ef-49e2-a017-c69fd335bf4e div.sk-toggleable__content pre {margin: 0.2em;color: black;border-radius: 0.25em;background-color: #f0f8ff;}#sk-ede43abb-94ef-49e2-a017-c69fd335bf4e input.sk-toggleable__control:checked~div.sk-toggleable__content {max-height: 200px;max-width: 100%;overflow: auto;}#sk-ede43abb-94ef-49e2-a017-c69fd335bf4e input.sk-toggleable__control:checked~label.sk-toggleable__label-arrow:before {content: \"▾\";}#sk-ede43abb-94ef-49e2-a017-c69fd335bf4e div.sk-estimator input.sk-toggleable__control:checked~label.sk-toggleable__label {background-color: #d4ebff;}#sk-ede43abb-94ef-49e2-a017-c69fd335bf4e div.sk-label input.sk-toggleable__control:checked~label.sk-toggleable__label {background-color: #d4ebff;}#sk-ede43abb-94ef-49e2-a017-c69fd335bf4e input.sk-hidden--visually {border: 0;clip: rect(1px 1px 1px 1px);clip: rect(1px, 1px, 1px, 1px);height: 1px;margin: -1px;overflow: hidden;padding: 0;position: absolute;width: 1px;}#sk-ede43abb-94ef-49e2-a017-c69fd335bf4e div.sk-estimator {font-family: monospace;background-color: #f0f8ff;border: 1px dotted black;border-radius: 0.25em;box-sizing: border-box;margin-bottom: 0.5em;}#sk-ede43abb-94ef-49e2-a017-c69fd335bf4e div.sk-estimator:hover {background-color: #d4ebff;}#sk-ede43abb-94ef-49e2-a017-c69fd335bf4e div.sk-parallel-item::after {content: \"\";width: 100%;border-bottom: 1px solid gray;flex-grow: 1;}#sk-ede43abb-94ef-49e2-a017-c69fd335bf4e div.sk-label:hover label.sk-toggleable__label {background-color: #d4ebff;}#sk-ede43abb-94ef-49e2-a017-c69fd335bf4e div.sk-serial::before {content: \"\";position: absolute;border-left: 1px solid gray;box-sizing: border-box;top: 2em;bottom: 0;left: 50%;}#sk-ede43abb-94ef-49e2-a017-c69fd335bf4e div.sk-serial {display: flex;flex-direction: column;align-items: center;background-color: white;padding-right: 0.2em;padding-left: 0.2em;}#sk-ede43abb-94ef-49e2-a017-c69fd335bf4e div.sk-item {z-index: 1;}#sk-ede43abb-94ef-49e2-a017-c69fd335bf4e div.sk-parallel {display: flex;align-items: stretch;justify-content: center;background-color: white;}#sk-ede43abb-94ef-49e2-a017-c69fd335bf4e div.sk-parallel::before {content: \"\";position: absolute;border-left: 1px solid gray;box-sizing: border-box;top: 2em;bottom: 0;left: 50%;}#sk-ede43abb-94ef-49e2-a017-c69fd335bf4e div.sk-parallel-item {display: flex;flex-direction: column;position: relative;background-color: white;}#sk-ede43abb-94ef-49e2-a017-c69fd335bf4e div.sk-parallel-item:first-child::after {align-self: flex-end;width: 50%;}#sk-ede43abb-94ef-49e2-a017-c69fd335bf4e div.sk-parallel-item:last-child::after {align-self: flex-start;width: 50%;}#sk-ede43abb-94ef-49e2-a017-c69fd335bf4e div.sk-parallel-item:only-child::after {width: 0;}#sk-ede43abb-94ef-49e2-a017-c69fd335bf4e div.sk-dashed-wrapped {border: 1px dashed gray;margin: 0 0.4em 0.5em 0.4em;box-sizing: border-box;padding-bottom: 0.4em;background-color: white;position: relative;}#sk-ede43abb-94ef-49e2-a017-c69fd335bf4e div.sk-label label {font-family: monospace;font-weight: bold;background-color: white;display: inline-block;line-height: 1.2em;}#sk-ede43abb-94ef-49e2-a017-c69fd335bf4e div.sk-label-container {position: relative;z-index: 2;text-align: center;}#sk-ede43abb-94ef-49e2-a017-c69fd335bf4e div.sk-container {/* jupyter's `normalize.less` sets `[hidden] { display: none; }` but bootstrap.min.css set `[hidden] { display: none !important; }` so we also need the `!important` here to be able to override the default hidden behavior on the sphinx rendered scikit-learn.org. See: https://github.com/scikit-learn/scikit-learn/issues/21755 */display: inline-block !important;position: relative;}#sk-ede43abb-94ef-49e2-a017-c69fd335bf4e div.sk-text-repr-fallback {display: none;}</style><div id=\"sk-ede43abb-94ef-49e2-a017-c69fd335bf4e\" class=\"sk-top-container\"><div class=\"sk-text-repr-fallback\"><pre>Pipeline(steps=[(&#x27;columntransformer&#x27;,\n",
              "                 ColumnTransformer(transformers=[(&#x27;onehotencoder&#x27;,\n",
              "                                                  OneHotEncoder(handle_unknown=&#x27;ignore&#x27;,\n",
              "                                                                sparse=False),\n",
              "                                                  &lt;sklearn.compose._column_transformer.make_column_selector object at 0x7f6025cde610&gt;),\n",
              "                                                 (&#x27;pipeline&#x27;,\n",
              "                                                  Pipeline(steps=[(&#x27;simpleimputer&#x27;,\n",
              "                                                                   SimpleImputer()),\n",
              "                                                                  (&#x27;standardscaler&#x27;,\n",
              "                                                                   StandardScaler())]),\n",
              "                                                  &lt;sklearn.compose._column_transformer.make_column_selector object at 0x7f6025cde520&gt;)])),\n",
              "                (&#x27;lgbmclassifier&#x27;, LGBMClassifier())])</pre><b>Please rerun this cell to show the HTML repr or trust the notebook.</b></div><div class=\"sk-container\" hidden><div class=\"sk-item sk-dashed-wrapped\"><div class=\"sk-label-container\"><div class=\"sk-label sk-toggleable\"><input class=\"sk-toggleable__control sk-hidden--visually\" id=\"65ac5bae-3235-4b77-a602-71b5074df0e1\" type=\"checkbox\" ><label for=\"65ac5bae-3235-4b77-a602-71b5074df0e1\" class=\"sk-toggleable__label sk-toggleable__label-arrow\">Pipeline</label><div class=\"sk-toggleable__content\"><pre>Pipeline(steps=[(&#x27;columntransformer&#x27;,\n",
              "                 ColumnTransformer(transformers=[(&#x27;onehotencoder&#x27;,\n",
              "                                                  OneHotEncoder(handle_unknown=&#x27;ignore&#x27;,\n",
              "                                                                sparse=False),\n",
              "                                                  &lt;sklearn.compose._column_transformer.make_column_selector object at 0x7f6025cde610&gt;),\n",
              "                                                 (&#x27;pipeline&#x27;,\n",
              "                                                  Pipeline(steps=[(&#x27;simpleimputer&#x27;,\n",
              "                                                                   SimpleImputer()),\n",
              "                                                                  (&#x27;standardscaler&#x27;,\n",
              "                                                                   StandardScaler())]),\n",
              "                                                  &lt;sklearn.compose._column_transformer.make_column_selector object at 0x7f6025cde520&gt;)])),\n",
              "                (&#x27;lgbmclassifier&#x27;, LGBMClassifier())])</pre></div></div></div><div class=\"sk-serial\"><div class=\"sk-item sk-dashed-wrapped\"><div class=\"sk-label-container\"><div class=\"sk-label sk-toggleable\"><input class=\"sk-toggleable__control sk-hidden--visually\" id=\"88f65320-9c06-462d-8051-c9c27129624a\" type=\"checkbox\" ><label for=\"88f65320-9c06-462d-8051-c9c27129624a\" class=\"sk-toggleable__label sk-toggleable__label-arrow\">columntransformer: ColumnTransformer</label><div class=\"sk-toggleable__content\"><pre>ColumnTransformer(transformers=[(&#x27;onehotencoder&#x27;,\n",
              "                                 OneHotEncoder(handle_unknown=&#x27;ignore&#x27;,\n",
              "                                               sparse=False),\n",
              "                                 &lt;sklearn.compose._column_transformer.make_column_selector object at 0x7f6025cde610&gt;),\n",
              "                                (&#x27;pipeline&#x27;,\n",
              "                                 Pipeline(steps=[(&#x27;simpleimputer&#x27;,\n",
              "                                                  SimpleImputer()),\n",
              "                                                 (&#x27;standardscaler&#x27;,\n",
              "                                                  StandardScaler())]),\n",
              "                                 &lt;sklearn.compose._column_transformer.make_column_selector object at 0x7f6025cde520&gt;)])</pre></div></div></div><div class=\"sk-parallel\"><div class=\"sk-parallel-item\"><div class=\"sk-item\"><div class=\"sk-label-container\"><div class=\"sk-label sk-toggleable\"><input class=\"sk-toggleable__control sk-hidden--visually\" id=\"975b77a5-d15f-4b43-9f38-13664fde7089\" type=\"checkbox\" ><label for=\"975b77a5-d15f-4b43-9f38-13664fde7089\" class=\"sk-toggleable__label sk-toggleable__label-arrow\">onehotencoder</label><div class=\"sk-toggleable__content\"><pre>&lt;sklearn.compose._column_transformer.make_column_selector object at 0x7f6025cde610&gt;</pre></div></div></div><div class=\"sk-serial\"><div class=\"sk-item\"><div class=\"sk-estimator sk-toggleable\"><input class=\"sk-toggleable__control sk-hidden--visually\" id=\"6c45c14e-9f24-438e-9c4f-887f44eeb4f8\" type=\"checkbox\" ><label for=\"6c45c14e-9f24-438e-9c4f-887f44eeb4f8\" class=\"sk-toggleable__label sk-toggleable__label-arrow\">OneHotEncoder</label><div class=\"sk-toggleable__content\"><pre>OneHotEncoder(handle_unknown=&#x27;ignore&#x27;, sparse=False)</pre></div></div></div></div></div></div><div class=\"sk-parallel-item\"><div class=\"sk-item\"><div class=\"sk-label-container\"><div class=\"sk-label sk-toggleable\"><input class=\"sk-toggleable__control sk-hidden--visually\" id=\"c391e097-1bcc-4d55-b7ce-1b86c0665b0e\" type=\"checkbox\" ><label for=\"c391e097-1bcc-4d55-b7ce-1b86c0665b0e\" class=\"sk-toggleable__label sk-toggleable__label-arrow\">pipeline</label><div class=\"sk-toggleable__content\"><pre>&lt;sklearn.compose._column_transformer.make_column_selector object at 0x7f6025cde520&gt;</pre></div></div></div><div class=\"sk-serial\"><div class=\"sk-item\"><div class=\"sk-serial\"><div class=\"sk-item\"><div class=\"sk-estimator sk-toggleable\"><input class=\"sk-toggleable__control sk-hidden--visually\" id=\"f90243a4-a5d0-4fbc-bf0c-56d831a64e5b\" type=\"checkbox\" ><label for=\"f90243a4-a5d0-4fbc-bf0c-56d831a64e5b\" class=\"sk-toggleable__label sk-toggleable__label-arrow\">SimpleImputer</label><div class=\"sk-toggleable__content\"><pre>SimpleImputer()</pre></div></div></div><div class=\"sk-item\"><div class=\"sk-estimator sk-toggleable\"><input class=\"sk-toggleable__control sk-hidden--visually\" id=\"6a6a9510-8915-4fbb-bebd-33bd75c42bd7\" type=\"checkbox\" ><label for=\"6a6a9510-8915-4fbb-bebd-33bd75c42bd7\" class=\"sk-toggleable__label sk-toggleable__label-arrow\">StandardScaler</label><div class=\"sk-toggleable__content\"><pre>StandardScaler()</pre></div></div></div></div></div></div></div></div></div></div><div class=\"sk-item\"><div class=\"sk-estimator sk-toggleable\"><input class=\"sk-toggleable__control sk-hidden--visually\" id=\"90f33a2a-f5ff-4db5-82aa-e40bf345190b\" type=\"checkbox\" ><label for=\"90f33a2a-f5ff-4db5-82aa-e40bf345190b\" class=\"sk-toggleable__label sk-toggleable__label-arrow\">LGBMClassifier</label><div class=\"sk-toggleable__content\"><pre>LGBMClassifier()</pre></div></div></div></div></div></div></div>"
            ]
          },
          "metadata": {},
          "execution_count": 76
        }
      ]
    },
    {
      "cell_type": "code",
      "source": [
        "#make predictions\n",
        "train_preds_lgbm_pipe = lgbm_pipe.predict(X_train)\n",
        "test_preds_lgbm_pipe = lgbm_pipe.predict(X_test)"
      ],
      "metadata": {
        "id": "oFVE56C9wAIa"
      },
      "execution_count": 77,
      "outputs": []
    },
    {
      "cell_type": "code",
      "source": [
        "#print classification reports for the training and the testing data\n",
        "print('LightGBM Classification Report for Training Data')\n",
        "print(classification_report(y_train, train_preds_lgbm_pipe))\n",
        "print('LightGBM Classification Report for Testing Data')\n",
        "print(classification_report(y_test, test_preds_lgbm_pipe))"
      ],
      "metadata": {
        "colab": {
          "base_uri": "https://localhost:8080/"
        },
        "id": "2oMKnq2ewDcf",
        "outputId": "e36d1c8d-043e-4e47-ffee-2ce4cecbc417"
      },
      "execution_count": 78,
      "outputs": [
        {
          "output_type": "stream",
          "name": "stdout",
          "text": [
            "LightGBM Classification Report for Training Data\n",
            "              precision    recall  f1-score   support\n",
            "\n",
            "           0       0.89      0.96      0.92       346\n",
            "           1       0.94      0.83      0.88       242\n",
            "\n",
            "    accuracy                           0.91       588\n",
            "   macro avg       0.91      0.90      0.90       588\n",
            "weighted avg       0.91      0.91      0.91       588\n",
            "\n",
            "LightGBM Classification Report for Testing Data\n",
            "              precision    recall  f1-score   support\n",
            "\n",
            "           0       0.82      0.89      0.85       115\n",
            "           1       0.82      0.73      0.77        81\n",
            "\n",
            "    accuracy                           0.82       196\n",
            "   macro avg       0.82      0.81      0.81       196\n",
            "weighted avg       0.82      0.82      0.82       196\n",
            "\n"
          ]
        }
      ]
    },
    {
      "cell_type": "code",
      "source": [
        "#check lgbm_pipe parameters\n",
        "lgbm_pipe.get_params()"
      ],
      "metadata": {
        "colab": {
          "base_uri": "https://localhost:8080/"
        },
        "id": "dwdhZbN247df",
        "outputId": "70c56eff-02f5-4ea4-9fc4-9139ccde826e"
      },
      "execution_count": 79,
      "outputs": [
        {
          "output_type": "execute_result",
          "data": {
            "text/plain": [
              "{'memory': None,\n",
              " 'steps': [('columntransformer',\n",
              "   ColumnTransformer(transformers=[('onehotencoder',\n",
              "                                    OneHotEncoder(handle_unknown='ignore',\n",
              "                                                  sparse=False),\n",
              "                                    <sklearn.compose._column_transformer.make_column_selector object at 0x7f6025cde610>),\n",
              "                                   ('pipeline',\n",
              "                                    Pipeline(steps=[('simpleimputer',\n",
              "                                                     SimpleImputer()),\n",
              "                                                    ('standardscaler',\n",
              "                                                     StandardScaler())]),\n",
              "                                    <sklearn.compose._column_transformer.make_column_selector object at 0x7f6025cde520>)])),\n",
              "  ('lgbmclassifier', LGBMClassifier())],\n",
              " 'verbose': False,\n",
              " 'columntransformer': ColumnTransformer(transformers=[('onehotencoder',\n",
              "                                  OneHotEncoder(handle_unknown='ignore',\n",
              "                                                sparse=False),\n",
              "                                  <sklearn.compose._column_transformer.make_column_selector object at 0x7f6025cde610>),\n",
              "                                 ('pipeline',\n",
              "                                  Pipeline(steps=[('simpleimputer',\n",
              "                                                   SimpleImputer()),\n",
              "                                                  ('standardscaler',\n",
              "                                                   StandardScaler())]),\n",
              "                                  <sklearn.compose._column_transformer.make_column_selector object at 0x7f6025cde520>)]),\n",
              " 'lgbmclassifier': LGBMClassifier(),\n",
              " 'columntransformer__n_jobs': None,\n",
              " 'columntransformer__remainder': 'drop',\n",
              " 'columntransformer__sparse_threshold': 0.3,\n",
              " 'columntransformer__transformer_weights': None,\n",
              " 'columntransformer__transformers': [('onehotencoder',\n",
              "   OneHotEncoder(handle_unknown='ignore', sparse=False),\n",
              "   <sklearn.compose._column_transformer.make_column_selector at 0x7f6025cde610>),\n",
              "  ('pipeline', Pipeline(steps=[('simpleimputer', SimpleImputer()),\n",
              "                   ('standardscaler', StandardScaler())]), <sklearn.compose._column_transformer.make_column_selector at 0x7f6025cde520>)],\n",
              " 'columntransformer__verbose': False,\n",
              " 'columntransformer__verbose_feature_names_out': True,\n",
              " 'columntransformer__onehotencoder': OneHotEncoder(handle_unknown='ignore', sparse=False),\n",
              " 'columntransformer__pipeline': Pipeline(steps=[('simpleimputer', SimpleImputer()),\n",
              "                 ('standardscaler', StandardScaler())]),\n",
              " 'columntransformer__onehotencoder__categories': 'auto',\n",
              " 'columntransformer__onehotencoder__drop': None,\n",
              " 'columntransformer__onehotencoder__dtype': numpy.float64,\n",
              " 'columntransformer__onehotencoder__handle_unknown': 'ignore',\n",
              " 'columntransformer__onehotencoder__sparse': False,\n",
              " 'columntransformer__pipeline__memory': None,\n",
              " 'columntransformer__pipeline__steps': [('simpleimputer', SimpleImputer()),\n",
              "  ('standardscaler', StandardScaler())],\n",
              " 'columntransformer__pipeline__verbose': False,\n",
              " 'columntransformer__pipeline__simpleimputer': SimpleImputer(),\n",
              " 'columntransformer__pipeline__standardscaler': StandardScaler(),\n",
              " 'columntransformer__pipeline__simpleimputer__add_indicator': False,\n",
              " 'columntransformer__pipeline__simpleimputer__copy': True,\n",
              " 'columntransformer__pipeline__simpleimputer__fill_value': None,\n",
              " 'columntransformer__pipeline__simpleimputer__missing_values': nan,\n",
              " 'columntransformer__pipeline__simpleimputer__strategy': 'mean',\n",
              " 'columntransformer__pipeline__simpleimputer__verbose': 0,\n",
              " 'columntransformer__pipeline__standardscaler__copy': True,\n",
              " 'columntransformer__pipeline__standardscaler__with_mean': True,\n",
              " 'columntransformer__pipeline__standardscaler__with_std': True,\n",
              " 'lgbmclassifier__boosting_type': 'gbdt',\n",
              " 'lgbmclassifier__class_weight': None,\n",
              " 'lgbmclassifier__colsample_bytree': 1.0,\n",
              " 'lgbmclassifier__importance_type': 'split',\n",
              " 'lgbmclassifier__learning_rate': 0.1,\n",
              " 'lgbmclassifier__max_depth': -1,\n",
              " 'lgbmclassifier__min_child_samples': 20,\n",
              " 'lgbmclassifier__min_child_weight': 0.001,\n",
              " 'lgbmclassifier__min_split_gain': 0.0,\n",
              " 'lgbmclassifier__n_estimators': 100,\n",
              " 'lgbmclassifier__n_jobs': -1,\n",
              " 'lgbmclassifier__num_leaves': 31,\n",
              " 'lgbmclassifier__objective': None,\n",
              " 'lgbmclassifier__random_state': None,\n",
              " 'lgbmclassifier__reg_alpha': 0.0,\n",
              " 'lgbmclassifier__reg_lambda': 0.0,\n",
              " 'lgbmclassifier__silent': True,\n",
              " 'lgbmclassifier__subsample': 1.0,\n",
              " 'lgbmclassifier__subsample_for_bin': 200000,\n",
              " 'lgbmclassifier__subsample_freq': 0}"
            ]
          },
          "metadata": {},
          "execution_count": 79
        }
      ]
    },
    {
      "cell_type": "code",
      "source": [
        "#create a parameter grid dictionary\n",
        "param_grid2 = {'lgbmclassifier__num_leaves': [8, 21, 31, 100, 1000],\n",
        "               'lgbmclassifier__max_depth': range(3, 12),\n",
        "              'lgbmclassifier__learning_rate': [.01, 0.1, 0.2],\n",
        "              'lgbmclassifier__class_weight': ['balanced', None]}\n",
        "#instantiate the GridSearchCV object\n",
        "lgbm_grid_search = GridSearchCV(lgbm_pipe, param_grid2)\n",
        "#fit the GridSearchCV object on the training data\n",
        "lgbm_grid_search.fit(X_train, y_train)\n",
        "#find the best parameters\n",
        "print(lgbm_grid_search.best_params_)\n",
        "#find the accuracy of the best model\n",
        "best_lgbm = lgbm_grid_search.best_estimator_\n",
        "print(f'Accuracy of best LGBMClassifier model is: {best_lgbm.score(X_test, y_test)}')"
      ],
      "metadata": {
        "colab": {
          "base_uri": "https://localhost:8080/"
        },
        "id": "Nhd_l0I15D6J",
        "outputId": "a4f733ae-a3db-4eb5-e734-c3202f2bef37"
      },
      "execution_count": 80,
      "outputs": [
        {
          "output_type": "stream",
          "name": "stdout",
          "text": [
            "{'lgbmclassifier__class_weight': None, 'lgbmclassifier__learning_rate': 0.1, 'lgbmclassifier__max_depth': 3, 'lgbmclassifier__num_leaves': 8}\n",
            "Accuracy of best LGBMClassifier model is: 0.8214285714285714\n"
          ]
        }
      ]
    },
    {
      "cell_type": "markdown",
      "source": [
        "  - Tuning the hyperparameters did not change the model's accuracy for making predictions on the test set."
      ],
      "metadata": {
        "id": "tvyar7uqxQCQ"
      }
    },
    {
      "cell_type": "code",
      "source": [
        "#make predictions using the tuned LightGBM model\n",
        "lgbm_tuned = LGBMClassifier(num_leaves = 8, max_depth = 3, learning_rate = 0.1, class_weight = None, random_state=42)\n",
        "lgbm_tuned_pipe = make_pipeline(preprocessor, lgbm_tuned)\n",
        "lgbm_tuned_pipe.fit(X_train, y_train)\n",
        "train_preds_lgbm_tuned = lgbm_tuned_pipe.predict(X_train)\n",
        "test_preds_lgbm_tuned = lgbm_tuned_pipe.predict(X_test)"
      ],
      "metadata": {
        "id": "ASksUoSH7Nxl"
      },
      "execution_count": 81,
      "outputs": []
    },
    {
      "cell_type": "code",
      "source": [
        "#compare the precision, recall, and f1-scores on the testing data for the original LightGBM model and the tuned LightGBM model\n",
        "print('LightGBM Classification Report for Testing Data')\n",
        "print(classification_report(y_test, test_preds_lgbm_pipe))\n",
        "print('Tuned LightGBM Classification Report for Testing Data')\n",
        "print(classification_report(y_test, test_preds_lgbm_tuned))"
      ],
      "metadata": {
        "colab": {
          "base_uri": "https://localhost:8080/"
        },
        "id": "Veqpn67KxxIP",
        "outputId": "13b05ae0-922e-4e84-d6f4-f0d9da29f1cc"
      },
      "execution_count": 83,
      "outputs": [
        {
          "output_type": "stream",
          "name": "stdout",
          "text": [
            "LightGBM Classification Report for Testing Data\n",
            "              precision    recall  f1-score   support\n",
            "\n",
            "           0       0.82      0.89      0.85       115\n",
            "           1       0.82      0.73      0.77        81\n",
            "\n",
            "    accuracy                           0.82       196\n",
            "   macro avg       0.82      0.81      0.81       196\n",
            "weighted avg       0.82      0.82      0.82       196\n",
            "\n",
            "Tuned LightGBM Classification Report for Testing Data\n",
            "              precision    recall  f1-score   support\n",
            "\n",
            "           0       0.81      0.90      0.86       115\n",
            "           1       0.84      0.70      0.77        81\n",
            "\n",
            "    accuracy                           0.82       196\n",
            "   macro avg       0.83      0.80      0.81       196\n",
            "weighted avg       0.82      0.82      0.82       196\n",
            "\n"
          ]
        }
      ]
    },
    {
      "cell_type": "markdown",
      "source": [
        "  - The tuned LightGBM model maintained the accuracy for making predictions on the test set, mildly decreased true negatives, mildly decreased true positives, mildly increased false negatives, mildly increased false positives, mildly increased the f1-score for the negative class, and maintained the f1-score for the positive class.\n",
        "  - Because the overall accuracy was the same for both models, the decreases of true negatives and true positives was not worth the increases in false negatives and false positives through tuning.\n",
        "  - The original LightGBM model was a better predictive model for survival."
      ],
      "metadata": {
        "id": "1wqjQIFgyH3M"
      }
    },
    {
      "cell_type": "markdown",
      "source": [
        "### GradientBoostingClassifier"
      ],
      "metadata": {
        "id": "2tpQHz7rwYlL"
      }
    },
    {
      "cell_type": "code",
      "source": [
        "#instantiate and fit gradient boosting classifier\n",
        "gbc = GradientBoostingClassifier()\n",
        "gbc_pipe = make_pipeline(preprocessor, gbc)\n",
        "gbc_pipe.fit(X_train, y_train)"
      ],
      "metadata": {
        "colab": {
          "base_uri": "https://localhost:8080/",
          "height": 227
        },
        "id": "55fAsRbEwGqI",
        "outputId": "dd814f55-3302-439b-b9e8-50ca019fe8dd"
      },
      "execution_count": 84,
      "outputs": [
        {
          "output_type": "execute_result",
          "data": {
            "text/plain": [
              "Pipeline(steps=[('columntransformer',\n",
              "                 ColumnTransformer(transformers=[('onehotencoder',\n",
              "                                                  OneHotEncoder(handle_unknown='ignore',\n",
              "                                                                sparse=False),\n",
              "                                                  <sklearn.compose._column_transformer.make_column_selector object at 0x7f6025cde610>),\n",
              "                                                 ('pipeline',\n",
              "                                                  Pipeline(steps=[('simpleimputer',\n",
              "                                                                   SimpleImputer()),\n",
              "                                                                  ('standardscaler',\n",
              "                                                                   StandardScaler())]),\n",
              "                                                  <sklearn.compose._column_transformer.make_column_selector object at 0x7f6025cde520>)])),\n",
              "                ('gradientboostingclassifier', GradientBoostingClassifier())])"
            ],
            "text/html": [
              "<style>#sk-73ef2a95-9efa-4fcd-9a86-2c8521fb4abf {color: black;background-color: white;}#sk-73ef2a95-9efa-4fcd-9a86-2c8521fb4abf pre{padding: 0;}#sk-73ef2a95-9efa-4fcd-9a86-2c8521fb4abf div.sk-toggleable {background-color: white;}#sk-73ef2a95-9efa-4fcd-9a86-2c8521fb4abf label.sk-toggleable__label {cursor: pointer;display: block;width: 100%;margin-bottom: 0;padding: 0.3em;box-sizing: border-box;text-align: center;}#sk-73ef2a95-9efa-4fcd-9a86-2c8521fb4abf label.sk-toggleable__label-arrow:before {content: \"▸\";float: left;margin-right: 0.25em;color: #696969;}#sk-73ef2a95-9efa-4fcd-9a86-2c8521fb4abf label.sk-toggleable__label-arrow:hover:before {color: black;}#sk-73ef2a95-9efa-4fcd-9a86-2c8521fb4abf div.sk-estimator:hover label.sk-toggleable__label-arrow:before {color: black;}#sk-73ef2a95-9efa-4fcd-9a86-2c8521fb4abf div.sk-toggleable__content {max-height: 0;max-width: 0;overflow: hidden;text-align: left;background-color: #f0f8ff;}#sk-73ef2a95-9efa-4fcd-9a86-2c8521fb4abf div.sk-toggleable__content pre {margin: 0.2em;color: black;border-radius: 0.25em;background-color: #f0f8ff;}#sk-73ef2a95-9efa-4fcd-9a86-2c8521fb4abf input.sk-toggleable__control:checked~div.sk-toggleable__content {max-height: 200px;max-width: 100%;overflow: auto;}#sk-73ef2a95-9efa-4fcd-9a86-2c8521fb4abf input.sk-toggleable__control:checked~label.sk-toggleable__label-arrow:before {content: \"▾\";}#sk-73ef2a95-9efa-4fcd-9a86-2c8521fb4abf div.sk-estimator input.sk-toggleable__control:checked~label.sk-toggleable__label {background-color: #d4ebff;}#sk-73ef2a95-9efa-4fcd-9a86-2c8521fb4abf div.sk-label input.sk-toggleable__control:checked~label.sk-toggleable__label {background-color: #d4ebff;}#sk-73ef2a95-9efa-4fcd-9a86-2c8521fb4abf input.sk-hidden--visually {border: 0;clip: rect(1px 1px 1px 1px);clip: rect(1px, 1px, 1px, 1px);height: 1px;margin: -1px;overflow: hidden;padding: 0;position: absolute;width: 1px;}#sk-73ef2a95-9efa-4fcd-9a86-2c8521fb4abf div.sk-estimator {font-family: monospace;background-color: #f0f8ff;border: 1px dotted black;border-radius: 0.25em;box-sizing: border-box;margin-bottom: 0.5em;}#sk-73ef2a95-9efa-4fcd-9a86-2c8521fb4abf div.sk-estimator:hover {background-color: #d4ebff;}#sk-73ef2a95-9efa-4fcd-9a86-2c8521fb4abf div.sk-parallel-item::after {content: \"\";width: 100%;border-bottom: 1px solid gray;flex-grow: 1;}#sk-73ef2a95-9efa-4fcd-9a86-2c8521fb4abf div.sk-label:hover label.sk-toggleable__label {background-color: #d4ebff;}#sk-73ef2a95-9efa-4fcd-9a86-2c8521fb4abf div.sk-serial::before {content: \"\";position: absolute;border-left: 1px solid gray;box-sizing: border-box;top: 2em;bottom: 0;left: 50%;}#sk-73ef2a95-9efa-4fcd-9a86-2c8521fb4abf div.sk-serial {display: flex;flex-direction: column;align-items: center;background-color: white;padding-right: 0.2em;padding-left: 0.2em;}#sk-73ef2a95-9efa-4fcd-9a86-2c8521fb4abf div.sk-item {z-index: 1;}#sk-73ef2a95-9efa-4fcd-9a86-2c8521fb4abf div.sk-parallel {display: flex;align-items: stretch;justify-content: center;background-color: white;}#sk-73ef2a95-9efa-4fcd-9a86-2c8521fb4abf div.sk-parallel::before {content: \"\";position: absolute;border-left: 1px solid gray;box-sizing: border-box;top: 2em;bottom: 0;left: 50%;}#sk-73ef2a95-9efa-4fcd-9a86-2c8521fb4abf div.sk-parallel-item {display: flex;flex-direction: column;position: relative;background-color: white;}#sk-73ef2a95-9efa-4fcd-9a86-2c8521fb4abf div.sk-parallel-item:first-child::after {align-self: flex-end;width: 50%;}#sk-73ef2a95-9efa-4fcd-9a86-2c8521fb4abf div.sk-parallel-item:last-child::after {align-self: flex-start;width: 50%;}#sk-73ef2a95-9efa-4fcd-9a86-2c8521fb4abf div.sk-parallel-item:only-child::after {width: 0;}#sk-73ef2a95-9efa-4fcd-9a86-2c8521fb4abf div.sk-dashed-wrapped {border: 1px dashed gray;margin: 0 0.4em 0.5em 0.4em;box-sizing: border-box;padding-bottom: 0.4em;background-color: white;position: relative;}#sk-73ef2a95-9efa-4fcd-9a86-2c8521fb4abf div.sk-label label {font-family: monospace;font-weight: bold;background-color: white;display: inline-block;line-height: 1.2em;}#sk-73ef2a95-9efa-4fcd-9a86-2c8521fb4abf div.sk-label-container {position: relative;z-index: 2;text-align: center;}#sk-73ef2a95-9efa-4fcd-9a86-2c8521fb4abf div.sk-container {/* jupyter's `normalize.less` sets `[hidden] { display: none; }` but bootstrap.min.css set `[hidden] { display: none !important; }` so we also need the `!important` here to be able to override the default hidden behavior on the sphinx rendered scikit-learn.org. See: https://github.com/scikit-learn/scikit-learn/issues/21755 */display: inline-block !important;position: relative;}#sk-73ef2a95-9efa-4fcd-9a86-2c8521fb4abf div.sk-text-repr-fallback {display: none;}</style><div id=\"sk-73ef2a95-9efa-4fcd-9a86-2c8521fb4abf\" class=\"sk-top-container\"><div class=\"sk-text-repr-fallback\"><pre>Pipeline(steps=[(&#x27;columntransformer&#x27;,\n",
              "                 ColumnTransformer(transformers=[(&#x27;onehotencoder&#x27;,\n",
              "                                                  OneHotEncoder(handle_unknown=&#x27;ignore&#x27;,\n",
              "                                                                sparse=False),\n",
              "                                                  &lt;sklearn.compose._column_transformer.make_column_selector object at 0x7f6025cde610&gt;),\n",
              "                                                 (&#x27;pipeline&#x27;,\n",
              "                                                  Pipeline(steps=[(&#x27;simpleimputer&#x27;,\n",
              "                                                                   SimpleImputer()),\n",
              "                                                                  (&#x27;standardscaler&#x27;,\n",
              "                                                                   StandardScaler())]),\n",
              "                                                  &lt;sklearn.compose._column_transformer.make_column_selector object at 0x7f6025cde520&gt;)])),\n",
              "                (&#x27;gradientboostingclassifier&#x27;, GradientBoostingClassifier())])</pre><b>Please rerun this cell to show the HTML repr or trust the notebook.</b></div><div class=\"sk-container\" hidden><div class=\"sk-item sk-dashed-wrapped\"><div class=\"sk-label-container\"><div class=\"sk-label sk-toggleable\"><input class=\"sk-toggleable__control sk-hidden--visually\" id=\"ef43e64d-aaa2-4208-a779-a37ca259b383\" type=\"checkbox\" ><label for=\"ef43e64d-aaa2-4208-a779-a37ca259b383\" class=\"sk-toggleable__label sk-toggleable__label-arrow\">Pipeline</label><div class=\"sk-toggleable__content\"><pre>Pipeline(steps=[(&#x27;columntransformer&#x27;,\n",
              "                 ColumnTransformer(transformers=[(&#x27;onehotencoder&#x27;,\n",
              "                                                  OneHotEncoder(handle_unknown=&#x27;ignore&#x27;,\n",
              "                                                                sparse=False),\n",
              "                                                  &lt;sklearn.compose._column_transformer.make_column_selector object at 0x7f6025cde610&gt;),\n",
              "                                                 (&#x27;pipeline&#x27;,\n",
              "                                                  Pipeline(steps=[(&#x27;simpleimputer&#x27;,\n",
              "                                                                   SimpleImputer()),\n",
              "                                                                  (&#x27;standardscaler&#x27;,\n",
              "                                                                   StandardScaler())]),\n",
              "                                                  &lt;sklearn.compose._column_transformer.make_column_selector object at 0x7f6025cde520&gt;)])),\n",
              "                (&#x27;gradientboostingclassifier&#x27;, GradientBoostingClassifier())])</pre></div></div></div><div class=\"sk-serial\"><div class=\"sk-item sk-dashed-wrapped\"><div class=\"sk-label-container\"><div class=\"sk-label sk-toggleable\"><input class=\"sk-toggleable__control sk-hidden--visually\" id=\"6c6a5b42-2f31-4328-a37c-4ec84217d8e9\" type=\"checkbox\" ><label for=\"6c6a5b42-2f31-4328-a37c-4ec84217d8e9\" class=\"sk-toggleable__label sk-toggleable__label-arrow\">columntransformer: ColumnTransformer</label><div class=\"sk-toggleable__content\"><pre>ColumnTransformer(transformers=[(&#x27;onehotencoder&#x27;,\n",
              "                                 OneHotEncoder(handle_unknown=&#x27;ignore&#x27;,\n",
              "                                               sparse=False),\n",
              "                                 &lt;sklearn.compose._column_transformer.make_column_selector object at 0x7f6025cde610&gt;),\n",
              "                                (&#x27;pipeline&#x27;,\n",
              "                                 Pipeline(steps=[(&#x27;simpleimputer&#x27;,\n",
              "                                                  SimpleImputer()),\n",
              "                                                 (&#x27;standardscaler&#x27;,\n",
              "                                                  StandardScaler())]),\n",
              "                                 &lt;sklearn.compose._column_transformer.make_column_selector object at 0x7f6025cde520&gt;)])</pre></div></div></div><div class=\"sk-parallel\"><div class=\"sk-parallel-item\"><div class=\"sk-item\"><div class=\"sk-label-container\"><div class=\"sk-label sk-toggleable\"><input class=\"sk-toggleable__control sk-hidden--visually\" id=\"c2ddc811-c7ee-43b2-b0f9-54766bb6e0d4\" type=\"checkbox\" ><label for=\"c2ddc811-c7ee-43b2-b0f9-54766bb6e0d4\" class=\"sk-toggleable__label sk-toggleable__label-arrow\">onehotencoder</label><div class=\"sk-toggleable__content\"><pre>&lt;sklearn.compose._column_transformer.make_column_selector object at 0x7f6025cde610&gt;</pre></div></div></div><div class=\"sk-serial\"><div class=\"sk-item\"><div class=\"sk-estimator sk-toggleable\"><input class=\"sk-toggleable__control sk-hidden--visually\" id=\"e5c253b2-fa53-478a-bb1e-dc8d9526bbb3\" type=\"checkbox\" ><label for=\"e5c253b2-fa53-478a-bb1e-dc8d9526bbb3\" class=\"sk-toggleable__label sk-toggleable__label-arrow\">OneHotEncoder</label><div class=\"sk-toggleable__content\"><pre>OneHotEncoder(handle_unknown=&#x27;ignore&#x27;, sparse=False)</pre></div></div></div></div></div></div><div class=\"sk-parallel-item\"><div class=\"sk-item\"><div class=\"sk-label-container\"><div class=\"sk-label sk-toggleable\"><input class=\"sk-toggleable__control sk-hidden--visually\" id=\"a9f03e8c-9bbb-420b-979c-33e314dcd867\" type=\"checkbox\" ><label for=\"a9f03e8c-9bbb-420b-979c-33e314dcd867\" class=\"sk-toggleable__label sk-toggleable__label-arrow\">pipeline</label><div class=\"sk-toggleable__content\"><pre>&lt;sklearn.compose._column_transformer.make_column_selector object at 0x7f6025cde520&gt;</pre></div></div></div><div class=\"sk-serial\"><div class=\"sk-item\"><div class=\"sk-serial\"><div class=\"sk-item\"><div class=\"sk-estimator sk-toggleable\"><input class=\"sk-toggleable__control sk-hidden--visually\" id=\"6b4bb753-0702-4a58-81c6-f6972128102d\" type=\"checkbox\" ><label for=\"6b4bb753-0702-4a58-81c6-f6972128102d\" class=\"sk-toggleable__label sk-toggleable__label-arrow\">SimpleImputer</label><div class=\"sk-toggleable__content\"><pre>SimpleImputer()</pre></div></div></div><div class=\"sk-item\"><div class=\"sk-estimator sk-toggleable\"><input class=\"sk-toggleable__control sk-hidden--visually\" id=\"d048a153-b6f8-44fa-9228-2f8712a7f819\" type=\"checkbox\" ><label for=\"d048a153-b6f8-44fa-9228-2f8712a7f819\" class=\"sk-toggleable__label sk-toggleable__label-arrow\">StandardScaler</label><div class=\"sk-toggleable__content\"><pre>StandardScaler()</pre></div></div></div></div></div></div></div></div></div></div><div class=\"sk-item\"><div class=\"sk-estimator sk-toggleable\"><input class=\"sk-toggleable__control sk-hidden--visually\" id=\"dd7b0efa-24df-455c-b43f-f7b9255688c8\" type=\"checkbox\" ><label for=\"dd7b0efa-24df-455c-b43f-f7b9255688c8\" class=\"sk-toggleable__label sk-toggleable__label-arrow\">GradientBoostingClassifier</label><div class=\"sk-toggleable__content\"><pre>GradientBoostingClassifier()</pre></div></div></div></div></div></div></div>"
            ]
          },
          "metadata": {},
          "execution_count": 84
        }
      ]
    },
    {
      "cell_type": "code",
      "source": [
        "#make predictions\n",
        "train_preds_gbc_pipe = gbc_pipe.predict(X_train)\n",
        "test_preds_gbc_pipe = gbc_pipe.predict(X_test)"
      ],
      "metadata": {
        "id": "g9KyVonzwbgf"
      },
      "execution_count": 85,
      "outputs": []
    },
    {
      "cell_type": "code",
      "source": [
        "#print classification reports for the training and the testing data\n",
        "print('Gradient Boosting Classifier Classification Report for Training Data')\n",
        "print(classification_report(y_train, train_preds_gbc_pipe))\n",
        "print('Gradient Boosting Classifier Classification Report for Testing Data')\n",
        "print(classification_report(y_test, test_preds_gbc_pipe))"
      ],
      "metadata": {
        "colab": {
          "base_uri": "https://localhost:8080/"
        },
        "id": "TatDBwRxweFJ",
        "outputId": "4a6072b7-2b9a-4f75-befe-b16e6023d0d8"
      },
      "execution_count": 86,
      "outputs": [
        {
          "output_type": "stream",
          "name": "stdout",
          "text": [
            "Gradient Boosting Classifier Classification Report for Training Data\n",
            "              precision    recall  f1-score   support\n",
            "\n",
            "           0       0.85      0.97      0.91       346\n",
            "           1       0.94      0.76      0.84       242\n",
            "\n",
            "    accuracy                           0.88       588\n",
            "   macro avg       0.90      0.86      0.87       588\n",
            "weighted avg       0.89      0.88      0.88       588\n",
            "\n",
            "Gradient Boosting Classifier Classification Report for Testing Data\n",
            "              precision    recall  f1-score   support\n",
            "\n",
            "           0       0.81      0.91      0.86       115\n",
            "           1       0.85      0.70      0.77        81\n",
            "\n",
            "    accuracy                           0.83       196\n",
            "   macro avg       0.83      0.81      0.82       196\n",
            "weighted avg       0.83      0.83      0.82       196\n",
            "\n"
          ]
        }
      ]
    },
    {
      "cell_type": "code",
      "source": [
        "#check gbc_pipe parameters\n",
        "gbc_pipe.get_params()"
      ],
      "metadata": {
        "id": "tt1vH33FwgkW",
        "colab": {
          "base_uri": "https://localhost:8080/"
        },
        "outputId": "7c21b75b-a483-49a7-d33a-232bb14e1f6c"
      },
      "execution_count": 87,
      "outputs": [
        {
          "output_type": "execute_result",
          "data": {
            "text/plain": [
              "{'memory': None,\n",
              " 'steps': [('columntransformer',\n",
              "   ColumnTransformer(transformers=[('onehotencoder',\n",
              "                                    OneHotEncoder(handle_unknown='ignore',\n",
              "                                                  sparse=False),\n",
              "                                    <sklearn.compose._column_transformer.make_column_selector object at 0x7f6025cde610>),\n",
              "                                   ('pipeline',\n",
              "                                    Pipeline(steps=[('simpleimputer',\n",
              "                                                     SimpleImputer()),\n",
              "                                                    ('standardscaler',\n",
              "                                                     StandardScaler())]),\n",
              "                                    <sklearn.compose._column_transformer.make_column_selector object at 0x7f6025cde520>)])),\n",
              "  ('gradientboostingclassifier', GradientBoostingClassifier())],\n",
              " 'verbose': False,\n",
              " 'columntransformer': ColumnTransformer(transformers=[('onehotencoder',\n",
              "                                  OneHotEncoder(handle_unknown='ignore',\n",
              "                                                sparse=False),\n",
              "                                  <sklearn.compose._column_transformer.make_column_selector object at 0x7f6025cde610>),\n",
              "                                 ('pipeline',\n",
              "                                  Pipeline(steps=[('simpleimputer',\n",
              "                                                   SimpleImputer()),\n",
              "                                                  ('standardscaler',\n",
              "                                                   StandardScaler())]),\n",
              "                                  <sklearn.compose._column_transformer.make_column_selector object at 0x7f6025cde520>)]),\n",
              " 'gradientboostingclassifier': GradientBoostingClassifier(),\n",
              " 'columntransformer__n_jobs': None,\n",
              " 'columntransformer__remainder': 'drop',\n",
              " 'columntransformer__sparse_threshold': 0.3,\n",
              " 'columntransformer__transformer_weights': None,\n",
              " 'columntransformer__transformers': [('onehotencoder',\n",
              "   OneHotEncoder(handle_unknown='ignore', sparse=False),\n",
              "   <sklearn.compose._column_transformer.make_column_selector at 0x7f6025cde610>),\n",
              "  ('pipeline', Pipeline(steps=[('simpleimputer', SimpleImputer()),\n",
              "                   ('standardscaler', StandardScaler())]), <sklearn.compose._column_transformer.make_column_selector at 0x7f6025cde520>)],\n",
              " 'columntransformer__verbose': False,\n",
              " 'columntransformer__verbose_feature_names_out': True,\n",
              " 'columntransformer__onehotencoder': OneHotEncoder(handle_unknown='ignore', sparse=False),\n",
              " 'columntransformer__pipeline': Pipeline(steps=[('simpleimputer', SimpleImputer()),\n",
              "                 ('standardscaler', StandardScaler())]),\n",
              " 'columntransformer__onehotencoder__categories': 'auto',\n",
              " 'columntransformer__onehotencoder__drop': None,\n",
              " 'columntransformer__onehotencoder__dtype': numpy.float64,\n",
              " 'columntransformer__onehotencoder__handle_unknown': 'ignore',\n",
              " 'columntransformer__onehotencoder__sparse': False,\n",
              " 'columntransformer__pipeline__memory': None,\n",
              " 'columntransformer__pipeline__steps': [('simpleimputer', SimpleImputer()),\n",
              "  ('standardscaler', StandardScaler())],\n",
              " 'columntransformer__pipeline__verbose': False,\n",
              " 'columntransformer__pipeline__simpleimputer': SimpleImputer(),\n",
              " 'columntransformer__pipeline__standardscaler': StandardScaler(),\n",
              " 'columntransformer__pipeline__simpleimputer__add_indicator': False,\n",
              " 'columntransformer__pipeline__simpleimputer__copy': True,\n",
              " 'columntransformer__pipeline__simpleimputer__fill_value': None,\n",
              " 'columntransformer__pipeline__simpleimputer__missing_values': nan,\n",
              " 'columntransformer__pipeline__simpleimputer__strategy': 'mean',\n",
              " 'columntransformer__pipeline__simpleimputer__verbose': 0,\n",
              " 'columntransformer__pipeline__standardscaler__copy': True,\n",
              " 'columntransformer__pipeline__standardscaler__with_mean': True,\n",
              " 'columntransformer__pipeline__standardscaler__with_std': True,\n",
              " 'gradientboostingclassifier__ccp_alpha': 0.0,\n",
              " 'gradientboostingclassifier__criterion': 'friedman_mse',\n",
              " 'gradientboostingclassifier__init': None,\n",
              " 'gradientboostingclassifier__learning_rate': 0.1,\n",
              " 'gradientboostingclassifier__loss': 'deviance',\n",
              " 'gradientboostingclassifier__max_depth': 3,\n",
              " 'gradientboostingclassifier__max_features': None,\n",
              " 'gradientboostingclassifier__max_leaf_nodes': None,\n",
              " 'gradientboostingclassifier__min_impurity_decrease': 0.0,\n",
              " 'gradientboostingclassifier__min_samples_leaf': 1,\n",
              " 'gradientboostingclassifier__min_samples_split': 2,\n",
              " 'gradientboostingclassifier__min_weight_fraction_leaf': 0.0,\n",
              " 'gradientboostingclassifier__n_estimators': 100,\n",
              " 'gradientboostingclassifier__n_iter_no_change': None,\n",
              " 'gradientboostingclassifier__random_state': None,\n",
              " 'gradientboostingclassifier__subsample': 1.0,\n",
              " 'gradientboostingclassifier__tol': 0.0001,\n",
              " 'gradientboostingclassifier__validation_fraction': 0.1,\n",
              " 'gradientboostingclassifier__verbose': 0,\n",
              " 'gradientboostingclassifier__warm_start': False}"
            ]
          },
          "metadata": {},
          "execution_count": 87
        }
      ]
    },
    {
      "cell_type": "code",
      "source": [
        "#create a parameter grid dictionary\n",
        "param_grid3 = {'gradientboostingclassifier__learning_rate': [1, 0.5, 0.25, 0.1, 0.05, 0.01],\n",
        "               'gradientboostingclassifier__n_estimators': [1, 2, 4, 8, 16, 32, 64, 100, 200],\n",
        "              'gradientboostingclassifier__max_depth': [1, 3, 32],\n",
        "              'gradientboostingclassifier__min_samples_split': [0.1, 1.0, 2, 10],\n",
        "               'gradientboostingclassifier__min_samples_leaf': [0.1, 1, 0.5, 5]}\n",
        "#instantiate the GridSearchCV object\n",
        "gbc_grid_search = GridSearchCV(gbc_pipe, param_grid3)\n",
        "#fit the GridSearchCV object on the training data\n",
        "gbc_grid_search.fit(X_train, y_train)\n",
        "#find the best parameters\n",
        "print(gbc_grid_search.best_params_)\n",
        "#find the accuracy of the best model\n",
        "best_gbc = gbc_grid_search.best_estimator_\n",
        "print(f'Accuracy of best GradientBoostingClassifier model is: {best_gbc.score(X_test, y_test)}')"
      ],
      "metadata": {
        "colab": {
          "base_uri": "https://localhost:8080/"
        },
        "id": "5vlFEcE6896-",
        "outputId": "58177d5c-06d8-4711-c562-3b0b361df51a"
      },
      "execution_count": 88,
      "outputs": [
        {
          "output_type": "stream",
          "name": "stdout",
          "text": [
            "{'gradientboostingclassifier__learning_rate': 0.1, 'gradientboostingclassifier__max_depth': 3, 'gradientboostingclassifier__min_samples_leaf': 1, 'gradientboostingclassifier__min_samples_split': 10, 'gradientboostingclassifier__n_estimators': 32}\n",
            "Accuracy of best GradientBoostingClassifier model is: 0.8163265306122449\n"
          ]
        }
      ]
    },
    {
      "cell_type": "markdown",
      "source": [
        "  - Tuning the hyperparameters decreased the model's accuracy for making predictions on the test set."
      ],
      "metadata": {
        "id": "BK9n4PW_zwbp"
      }
    },
    {
      "cell_type": "code",
      "source": [
        "#make predictions using the tuned GradientBoostingClassifier model\n",
        "gbc_tuned = GradientBoostingClassifier(learning_rate = 0.1, n_estimators = 32, max_depth = 3, min_samples_split = 10, min_samples_leaf = 1, random_state=42)\n",
        "gbc_tuned_pipe = make_pipeline(preprocessor, gbc_tuned)\n",
        "gbc_tuned_pipe.fit(X_train, y_train)\n",
        "train_preds_gbc_tuned = gbc_tuned_pipe.predict(X_train)\n",
        "test_preds_gbc_tuned = gbc_tuned_pipe.predict(X_test)"
      ],
      "metadata": {
        "id": "51urvyMI-zAw"
      },
      "execution_count": 89,
      "outputs": []
    },
    {
      "cell_type": "code",
      "source": [
        "#compare the precision, recall, and f1-scores on the testing data for the original GradientBoostingClassifier model and the tuned GradientBoostingClassifier model\n",
        "print('Gradient Boosting Classifier Classification Report for Testing Data')\n",
        "print(classification_report(y_test, test_preds_gbc_pipe))\n",
        "print('Tuned GradientBoostingClassifier Classification Report for Testing Data')\n",
        "print(classification_report(y_test, test_preds_gbc_tuned))"
      ],
      "metadata": {
        "colab": {
          "base_uri": "https://localhost:8080/"
        },
        "id": "cP0p9lOiz1Sl",
        "outputId": "e7ed3db6-e7ec-4d01-e597-e6f25a200505"
      },
      "execution_count": 90,
      "outputs": [
        {
          "output_type": "stream",
          "name": "stdout",
          "text": [
            "Gradient Boosting Classifier Classification Report for Testing Data\n",
            "              precision    recall  f1-score   support\n",
            "\n",
            "           0       0.81      0.91      0.86       115\n",
            "           1       0.85      0.70      0.77        81\n",
            "\n",
            "    accuracy                           0.83       196\n",
            "   macro avg       0.83      0.81      0.82       196\n",
            "weighted avg       0.83      0.83      0.82       196\n",
            "\n",
            "Tuned GradientBoostingClassifier Classification Report for Testing Data\n",
            "              precision    recall  f1-score   support\n",
            "\n",
            "           0       0.78      0.95      0.86       115\n",
            "           1       0.89      0.63      0.74        81\n",
            "\n",
            "    accuracy                           0.82       196\n",
            "   macro avg       0.84      0.79      0.80       196\n",
            "weighted avg       0.83      0.82      0.81       196\n",
            "\n"
          ]
        }
      ]
    },
    {
      "cell_type": "markdown",
      "source": [
        "  - The tuned GradientBoostingClassifier reduced the accuracy for making predictions on the test set.  It increased false negatives and increased false positives.\n",
        "  - The original GradientBoostingClassifier was a better predictive model for survival."
      ],
      "metadata": {
        "id": "qadjz1zpzzCk"
      }
    },
    {
      "cell_type": "code",
      "source": [
        "#print final classification reports for the the testing data\n",
        "print('XGBoost Classification Report for Testing Data')\n",
        "print(classification_report(y_test, test_preds_xgb_pipe))\n",
        "print('\\n')\n",
        "print('LightGBM Classification Report for Testing Data')\n",
        "print(classification_report(y_test, test_preds_lgbm_pipe))\n",
        "print('\\n')\n",
        "print('Gradient Boosting Classifier Classification Report for Testing Data')\n",
        "print(classification_report(y_test, test_preds_gbc_pipe))"
      ],
      "metadata": {
        "colab": {
          "base_uri": "https://localhost:8080/"
        },
        "id": "WrkdY69v_clr",
        "outputId": "f2e348c6-0f1b-49ba-c5c0-e0c07bbe3ef8"
      },
      "execution_count": 91,
      "outputs": [
        {
          "output_type": "stream",
          "name": "stdout",
          "text": [
            "XGBoost Classification Report for Testing Data\n",
            "              precision    recall  f1-score   support\n",
            "\n",
            "           0       0.81      0.91      0.86       115\n",
            "           1       0.85      0.70      0.77        81\n",
            "\n",
            "    accuracy                           0.83       196\n",
            "   macro avg       0.83      0.81      0.82       196\n",
            "weighted avg       0.83      0.83      0.82       196\n",
            "\n",
            "\n",
            "\n",
            "LightGBM Classification Report for Testing Data\n",
            "              precision    recall  f1-score   support\n",
            "\n",
            "           0       0.82      0.89      0.85       115\n",
            "           1       0.82      0.73      0.77        81\n",
            "\n",
            "    accuracy                           0.82       196\n",
            "   macro avg       0.82      0.81      0.81       196\n",
            "weighted avg       0.82      0.82      0.82       196\n",
            "\n",
            "\n",
            "\n",
            "Gradient Boosting Classifier Classification Report for Testing Data\n",
            "              precision    recall  f1-score   support\n",
            "\n",
            "           0       0.81      0.91      0.86       115\n",
            "           1       0.85      0.70      0.77        81\n",
            "\n",
            "    accuracy                           0.83       196\n",
            "   macro avg       0.83      0.81      0.82       196\n",
            "weighted avg       0.83      0.83      0.82       196\n",
            "\n"
          ]
        }
      ]
    },
    {
      "cell_type": "markdown",
      "source": [
        "The XGBoost and the GradientBoostingClassifier performed the same for making correct predictions on the test set.  They were both 85% specific and 70% sensitive for predicting survival.  They were also both 81% specific and 91% sensitive for predicting those who did not survive.  They both had f1-scores of 86% for the not survive class and 77% for the survive class.  Either of these models would be good choices for predicting survival."
      ],
      "metadata": {
        "id": "Y0tAtDnh4SsK"
      }
    },
    {
      "cell_type": "code",
      "source": [],
      "metadata": {
        "id": "y8APNnXZFN0J"
      },
      "execution_count": null,
      "outputs": []
    }
  ]
}